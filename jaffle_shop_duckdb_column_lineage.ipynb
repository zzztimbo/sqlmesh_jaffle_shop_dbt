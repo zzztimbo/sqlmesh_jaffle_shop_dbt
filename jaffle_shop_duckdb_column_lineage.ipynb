{
 "cells": [
  {
   "cell_type": "code",
   "execution_count": 27,
   "id": "9e6f3763-bd6c-4829-89d9-b4f940b081f4",
   "metadata": {},
   "outputs": [
    {
     "name": "stdout",
     "output_type": "stream",
     "text": [
      "\u001b[0m21:06:18  Running with dbt=1.5.1\n",
      "\u001b[0m21:06:18  [\u001b[33mWARNING\u001b[0m]: Deprecated functionality\n",
      "        The default package install path has changed from `dbt_modules` to\n",
      "`dbt_packages`.         Please update `clean-targets` in `dbt_project.yml` and\n",
      "check `.gitignore` as well.         Or, set `packages-install-path: dbt_modules`\n",
      "if you'd like to keep the current value.\n",
      "\u001b[0m21:06:18  Checking target/*\n",
      "\u001b[0m21:06:18  Cleaned target/*\n",
      "\u001b[0m21:06:18  Checking dbt_modules/*\n",
      "\u001b[0m21:06:18  Cleaned dbt_modules/*\n",
      "\u001b[0m21:06:18  Checking logs/*\n",
      "\u001b[0m21:06:18  Cleaned logs/*\n",
      "\u001b[0m21:06:18  Finished cleaning all paths.\n",
      "\u001b[0m21:06:19  Running with dbt=1.5.1\n",
      "\u001b[0m21:06:19  Warning: No packages were found in packages.yml\n",
      "\u001b[0m21:06:20  Running with dbt=1.5.1\n",
      "\u001b[0m21:06:20  Unable to do partial parsing because saved manifest not found. Starting full parse.\n",
      "\u001b[0m21:06:21  Found 5 models, 20 tests, 0 snapshots, 0 analyses, 314 macros, 0 operations, 3 seed files, 0 sources, 0 exposures, 0 metrics, 0 groups\n",
      "\u001b[0m21:06:21  \n",
      "\u001b[0m21:06:21  Concurrency: 1 threads (target='dev')\n",
      "\u001b[0m21:06:21  \n",
      "\u001b[0m21:06:21  1 of 3 START seed file main.raw_customers ...................................... [RUN]\n",
      "\u001b[0m21:06:21  1 of 3 OK loaded seed file main.raw_customers .................................. [\u001b[32mINSERT 100\u001b[0m in 0.60s]\n",
      "\u001b[0m21:06:21  2 of 3 START seed file main.raw_orders ......................................... [RUN]\n",
      "\u001b[0m21:06:21  2 of 3 OK loaded seed file main.raw_orders ..................................... [\u001b[32mINSERT 99\u001b[0m in 0.05s]\n",
      "\u001b[0m21:06:21  3 of 3 START seed file main.raw_payments ....................................... [RUN]\n",
      "\u001b[0m21:06:21  3 of 3 OK loaded seed file main.raw_payments ................................... [\u001b[32mINSERT 113\u001b[0m in 0.08s]\n",
      "\u001b[0m21:06:21  \n",
      "\u001b[0m21:06:21  Finished running 3 seeds in 0 hours 0 minutes and 0.79 seconds (0.79s).\n",
      "\u001b[0m21:06:21  \n",
      "\u001b[0m21:06:21  \u001b[32mCompleted successfully\u001b[0m\n",
      "\u001b[0m21:06:21  \n",
      "\u001b[0m21:06:21  Done. PASS=3 WARN=0 ERROR=0 SKIP=0 TOTAL=3\n",
      "\u001b[0m21:06:23  Running with dbt=1.5.1\n",
      "\u001b[0m21:06:23  Found 5 models, 20 tests, 0 snapshots, 0 analyses, 314 macros, 0 operations, 3 seed files, 0 sources, 0 exposures, 0 metrics, 0 groups\n",
      "\u001b[0m21:06:23  \n",
      "\u001b[0m21:06:23  Concurrency: 1 threads (target='dev')\n",
      "\u001b[0m21:06:23  \n",
      "\u001b[0m21:06:23  1 of 28 START seed file main.raw_customers ..................................... [RUN]\n",
      "\u001b[0m21:06:23  1 of 28 OK loaded seed file main.raw_customers ................................. [\u001b[32mINSERT 100\u001b[0m in 0.31s]\n",
      "\u001b[0m21:06:23  2 of 28 START seed file main.raw_orders ........................................ [RUN]\n",
      "\u001b[0m21:06:23  2 of 28 OK loaded seed file main.raw_orders .................................... [\u001b[32mINSERT 99\u001b[0m in 0.07s]\n",
      "\u001b[0m21:06:23  3 of 28 START seed file main.raw_payments ...................................... [RUN]\n",
      "\u001b[0m21:06:23  3 of 28 OK loaded seed file main.raw_payments .................................. [\u001b[32mINSERT 113\u001b[0m in 0.06s]\n",
      "\u001b[0m21:06:23  4 of 28 START sql view model main.stg_customers ................................ [RUN]\n",
      "\u001b[0m21:06:23  4 of 28 OK created sql view model main.stg_customers ........................... [\u001b[32mOK\u001b[0m in 0.04s]\n",
      "\u001b[0m21:06:23  5 of 28 START sql view model main.stg_orders ................................... [RUN]\n",
      "\u001b[0m21:06:23  5 of 28 OK created sql view model main.stg_orders .............................. [\u001b[32mOK\u001b[0m in 0.02s]\n",
      "\u001b[0m21:06:23  6 of 28 START sql view model main.stg_payments ................................. [RUN]\n",
      "\u001b[0m21:06:23  6 of 28 OK created sql view model main.stg_payments ............................ [\u001b[32mOK\u001b[0m in 0.02s]\n",
      "\u001b[0m21:06:23  7 of 28 START test not_null_stg_customers_customer_id .......................... [RUN]\n",
      "\u001b[0m21:06:23  7 of 28 PASS not_null_stg_customers_customer_id ................................ [\u001b[32mPASS\u001b[0m in 0.02s]\n",
      "\u001b[0m21:06:23  8 of 28 START test unique_stg_customers_customer_id ............................ [RUN]\n",
      "\u001b[0m21:06:23  8 of 28 PASS unique_stg_customers_customer_id .................................. [\u001b[32mPASS\u001b[0m in 0.01s]\n",
      "\u001b[0m21:06:23  9 of 28 START test accepted_values_stg_orders_status__placed__shipped__completed__return_pending__returned  [RUN]\n",
      "\u001b[0m21:06:23  9 of 28 PASS accepted_values_stg_orders_status__placed__shipped__completed__return_pending__returned  [\u001b[32mPASS\u001b[0m in 0.02s]\n",
      "\u001b[0m21:06:23  10 of 28 START test not_null_stg_orders_order_id ............................... [RUN]\n",
      "\u001b[0m21:06:23  10 of 28 PASS not_null_stg_orders_order_id ..................................... [\u001b[32mPASS\u001b[0m in 0.01s]\n",
      "\u001b[0m21:06:23  11 of 28 START test unique_stg_orders_order_id ................................. [RUN]\n",
      "\u001b[0m21:06:23  11 of 28 PASS unique_stg_orders_order_id ....................................... [\u001b[32mPASS\u001b[0m in 0.01s]\n",
      "\u001b[0m21:06:23  12 of 28 START test accepted_values_stg_payments_payment_method__credit_card__coupon__bank_transfer__gift_card  [RUN]\n",
      "\u001b[0m21:06:23  12 of 28 PASS accepted_values_stg_payments_payment_method__credit_card__coupon__bank_transfer__gift_card  [\u001b[32mPASS\u001b[0m in 0.01s]\n",
      "\u001b[0m21:06:23  13 of 28 START test not_null_stg_payments_payment_id ........................... [RUN]\n",
      "\u001b[0m21:06:23  13 of 28 PASS not_null_stg_payments_payment_id ................................. [\u001b[32mPASS\u001b[0m in 0.01s]\n",
      "\u001b[0m21:06:23  14 of 28 START test unique_stg_payments_payment_id ............................. [RUN]\n",
      "\u001b[0m21:06:23  14 of 28 PASS unique_stg_payments_payment_id ................................... [\u001b[32mPASS\u001b[0m in 0.01s]\n",
      "\u001b[0m21:06:23  15 of 28 START sql table model main.customers .................................. [RUN]\n",
      "\u001b[0m21:06:23  15 of 28 OK created sql table model main.customers ............................. [\u001b[32mOK\u001b[0m in 0.03s]\n",
      "\u001b[0m21:06:23  16 of 28 START sql table model main.orders ..................................... [RUN]\n",
      "\u001b[0m21:06:23  16 of 28 OK created sql table model main.orders ................................ [\u001b[32mOK\u001b[0m in 0.02s]\n",
      "\u001b[0m21:06:23  17 of 28 START test not_null_customers_customer_id ............................. [RUN]\n",
      "\u001b[0m21:06:23  17 of 28 PASS not_null_customers_customer_id ................................... [\u001b[32mPASS\u001b[0m in 0.01s]\n",
      "\u001b[0m21:06:23  18 of 28 START test unique_customers_customer_id ............................... [RUN]\n",
      "\u001b[0m21:06:23  18 of 28 PASS unique_customers_customer_id ..................................... [\u001b[32mPASS\u001b[0m in 0.01s]\n",
      "\u001b[0m21:06:23  19 of 28 START test accepted_values_orders_status__placed__shipped__completed__return_pending__returned  [RUN]\n",
      "\u001b[0m21:06:23  19 of 28 PASS accepted_values_orders_status__placed__shipped__completed__return_pending__returned  [\u001b[32mPASS\u001b[0m in 0.01s]\n",
      "\u001b[0m21:06:23  20 of 28 START test not_null_orders_amount ..................................... [RUN]\n",
      "\u001b[0m21:06:23  20 of 28 PASS not_null_orders_amount ........................................... [\u001b[32mPASS\u001b[0m in 0.01s]\n",
      "\u001b[0m21:06:23  21 of 28 START test not_null_orders_bank_transfer_amount ....................... [RUN]\n",
      "\u001b[0m21:06:23  21 of 28 PASS not_null_orders_bank_transfer_amount ............................. [\u001b[32mPASS\u001b[0m in 0.01s]\n",
      "\u001b[0m21:06:23  22 of 28 START test not_null_orders_coupon_amount .............................. [RUN]\n",
      "\u001b[0m21:06:23  22 of 28 PASS not_null_orders_coupon_amount .................................... [\u001b[32mPASS\u001b[0m in 0.01s]\n",
      "\u001b[0m21:06:23  23 of 28 START test not_null_orders_credit_card_amount ......................... [RUN]\n",
      "\u001b[0m21:06:23  23 of 28 PASS not_null_orders_credit_card_amount ............................... [\u001b[32mPASS\u001b[0m in 0.01s]\n",
      "\u001b[0m21:06:23  24 of 28 START test not_null_orders_customer_id ................................ [RUN]\n",
      "\u001b[0m21:06:23  24 of 28 PASS not_null_orders_customer_id ...................................... [\u001b[32mPASS\u001b[0m in 0.01s]\n",
      "\u001b[0m21:06:23  25 of 28 START test not_null_orders_gift_card_amount ........................... [RUN]\n",
      "\u001b[0m21:06:23  25 of 28 PASS not_null_orders_gift_card_amount ................................. [\u001b[32mPASS\u001b[0m in 0.01s]\n",
      "\u001b[0m21:06:23  26 of 28 START test not_null_orders_order_id ................................... [RUN]\n",
      "\u001b[0m21:06:23  26 of 28 PASS not_null_orders_order_id ......................................... [\u001b[32mPASS\u001b[0m in 0.01s]\n",
      "\u001b[0m21:06:23  27 of 28 START test relationships_orders_customer_id__customer_id__ref_customers_  [RUN]\n",
      "\u001b[0m21:06:23  27 of 28 PASS relationships_orders_customer_id__customer_id__ref_customers_ .... [\u001b[32mPASS\u001b[0m in 0.01s]\n",
      "\u001b[0m21:06:23  28 of 28 START test unique_orders_order_id ..................................... [RUN]\n",
      "\u001b[0m21:06:24  28 of 28 PASS unique_orders_order_id ........................................... [\u001b[32mPASS\u001b[0m in 0.01s]\n",
      "\u001b[0m21:06:24  \n",
      "\u001b[0m21:06:24  Finished running 3 seeds, 3 view models, 20 tests, 2 table models in 0 hours 0 minutes and 0.88 seconds (0.88s).\n",
      "\u001b[0m21:06:24  \n",
      "\u001b[0m21:06:24  \u001b[32mCompleted successfully\u001b[0m\n",
      "\u001b[0m21:06:24  \n",
      "\u001b[0m21:06:24  Done. PASS=28 WARN=0 ERROR=0 SKIP=0 TOTAL=28\n"
     ]
    }
   ],
   "source": [
    "!rm jaffle_shop.duckdb && dbt clean && dbt deps && dbt seed && dbt build "
   ]
  },
  {
   "cell_type": "code",
   "execution_count": 1,
   "id": "aed9f71b-1992-43fa-ad8e-2dee78cc1c82",
   "metadata": {},
   "outputs": [],
   "source": [
    "import os\n",
    "import json\n",
    "import sqlglot \n",
    "import time\n",
    "\n",
    "from loguru import logger\n",
    "from sqlglot import exp\n",
    "from sqlglot import parse_one \n",
    "from sqlglot.lineage import lineage\n",
    "from sqlglot.optimizer import optimize"
   ]
  },
  {
   "cell_type": "code",
   "execution_count": 2,
   "id": "5742b1d4-8767-4916-a8c8-f8e1d74fa293",
   "metadata": {},
   "outputs": [],
   "source": [
    "raw_schemas = {\n",
    "    \"jaffle_shop\": {\n",
    "        \"main\": {\n",
    "            \"raw_payments\": {\n",
    "                \"id\": \"int\",\n",
    "                \"order_id\": \"int\",\n",
    "                \"payment_method\": \"str\",\n",
    "                \"amount\": \"int\"\n",
    "              },\n",
    "            \"raw_customers\": {\n",
    "                \"id\": \"int\",\n",
    "                \"first_name\": \"str\",\n",
    "                \"last_name\": \"str\"\n",
    "            },\n",
    "            \"raw_orders\": {\n",
    "                \"id\": \"int\",\n",
    "                \"user_id\": \"int\",\n",
    "                \"order_date\": \"date\",\n",
    "                \"status\": \"str\"\n",
    "            }\n",
    "        }\n",
    "    }\n",
    "}"
   ]
  },
  {
   "cell_type": "code",
   "execution_count": 3,
   "id": "2ba7f05d-2817-4ec0-a19b-3914d97788e5",
   "metadata": {},
   "outputs": [],
   "source": [
    "def get_sources(starting_directory):\n",
    "    sources = {}\n",
    "    for root, dirs, files in os.walk(starting_directory):\n",
    "        for file in files:\n",
    "            file_path = os.path.join(root, file)\n",
    "            if root.split('/')[-1] != 'schema.yml':\n",
    "                with open(file_path, 'r') as f:\n",
    "                    sql_content = f.read()\n",
    "                    model_name_from_path = file_path.split(\"/\")[-1].split(\".\")[0]\n",
    "                    sources[f\"jaffle_shop.main.{model_name_from_path}\"] = sql_content\n",
    "    return sources"
   ]
  },
  {
   "cell_type": "code",
   "execution_count": 4,
   "id": "c41ba92f-5bb9-4310-82ff-45f660e2cbd5",
   "metadata": {},
   "outputs": [],
   "source": [
    "sources = get_sources(\"./target/compiled/jaffle_shop/models/\")"
   ]
  },
  {
   "cell_type": "code",
   "execution_count": 5,
   "id": "0a87a2f2",
   "metadata": {},
   "outputs": [],
   "source": [
    "def get_final_columns(_sql, _schemas=None):\n",
    "    if _schemas:\n",
    "        return optimize(_sql, schema=_schemas).named_selects\n",
    "    else:\n",
    "        return optimize(_sql).named_selects"
   ]
  },
  {
   "cell_type": "code",
   "execution_count": 6,
   "id": "58a17fdc-a310-4689-a088-a02f172943e3",
   "metadata": {},
   "outputs": [],
   "source": [
    "def get_leaf_nodes(_node): \n",
    "    leaf_nodes = []\n",
    "    if not _node.downstream:\n",
    "        leaf_nodes.append(_node)\n",
    "    else:\n",
    "        for child in _node.downstream:\n",
    "            leaf_nodes.extend(get_leaf_nodes(child))\n",
    "    return leaf_nodes"
   ]
  },
  {
   "cell_type": "code",
   "execution_count": 7,
   "id": "04b7d6b3-c43e-49ff-b163-6b6a41361955",
   "metadata": {},
   "outputs": [
    {
     "name": "stderr",
     "output_type": "stream",
     "text": [
      "\u001b[32m2023-06-12 14:04:56.309\u001b[0m | \u001b[1mINFO    \u001b[0m | \u001b[36m__main__\u001b[0m:\u001b[36m<module>\u001b[0m:\u001b[36m22\u001b[0m - \u001b[1m['customer_id', 'first_name', 'last_name', 'first_order', 'most_recent_order', 'number_of_orders', 'customer_lifetime_value']\u001b[0m\n"
     ]
    }
   ],
   "source": [
    "schemas_for_optimizer = {\n",
    "    \"jaffle_shop\": {\n",
    "        \"main\": {\n",
    "            \"stg_payments\": {\n",
    "                \"payment_id\": \"int\", \n",
    "                \"order_id\": \"int\", \n",
    "                \"payment_method\": \"str\", \n",
    "                \"amount\": \"int\"\n",
    "            },\n",
    "            \"stg_orders\": {\n",
    "                \"order_id\": \"int\",\n",
    "                \"customer_id\": \"int\", \n",
    "                \"order_date\": \"date\", \n",
    "                \"status\": \"str\"\n",
    "            }\n",
    "        }\n",
    "    }\n",
    "}\n",
    "\n",
    "customers = sources.get(\"jaffle_shop.main.customers\")\n",
    "customers_columns = get_final_columns(customers, schemas_for_optimizer)\n",
    "logger.info(customers_columns)"
   ]
  },
  {
   "cell_type": "code",
   "execution_count": 8,
   "id": "3a442b97-59b4-4529-8574-a4ce9a9a76d6",
   "metadata": {},
   "outputs": [
    {
     "data": {
      "text/html": [
       "<div>\n",
       "  <div id=\"sqlglot-lineage\"></div>\n",
       "  <script type=\"text/javascript\" src=\"https://unpkg.com/vis-data@latest/peer/umd/vis-data.min.js\"></script>\n",
       "  <script type=\"text/javascript\" src=\"https://unpkg.com/vis-network@latest/peer/umd/vis-network.min.js\"></script>\n",
       "  <link rel=\"stylesheet\" type=\"text/css\" href=\"https://unpkg.com/vis-network/styles/vis-network.min.css\" />\n",
       "  <script type=\"text/javascript\">\n",
       "    var nodes = new vis.DataSet([{\"id\": 4384263856, \"label\": \"final.customer_id AS customer_id\", \"title\": \"<pre>WITH customers AS (\\n  SELECT\\n    \\\"jaffle_shop.main.stg_customers\\\".customer_id AS customer_id,\\n    \\\"jaffle_shop.main.stg_customers\\\".first_name AS first_name,\\n    \\\"jaffle_shop.main.stg_customers\\\".last_name AS last_name\\n  FROM (\\n    WITH source AS (\\n      SELECT\\n        raw_customers.id AS id,\\n        raw_customers.first_name AS first_name,\\n        raw_customers.last_name AS last_name\\n      FROM jaffle_shop.main.raw_customers AS raw_customers\\n    ), renamed AS (\\n      SELECT\\n        source.id AS customer_id,\\n        source.first_name AS first_name,\\n        source.last_name AS last_name\\n      FROM source\\n    )\\n    SELECT\\n      renamed.customer_id AS customer_id,\\n      renamed.first_name AS first_name,\\n      renamed.last_name AS last_name\\n    FROM renamed\\n  ) AS \\\"jaffle_shop.main.stg_customers\\\" /* source: jaffle_shop.main.stg_customers */\\n), orders AS (\\n  SELECT\\n    \\\"jaffle_shop.main.stg_orders\\\".order_id AS order_id,\\n    \\\"jaffle_shop.main.stg_orders\\\".customer_id AS customer_id,\\n    \\\"jaffle_shop.main.stg_orders\\\".order_date AS order_date,\\n    \\\"jaffle_shop.main.stg_orders\\\".status AS status\\n  FROM (\\n    WITH source AS (\\n      SELECT\\n        raw_orders.id AS id,\\n        raw_orders.user_id AS user_id,\\n        raw_orders.order_date AS order_date,\\n        raw_orders.status AS status\\n      FROM jaffle_shop.main.raw_orders AS raw_orders\\n    ), renamed AS (\\n      SELECT\\n        source.id AS order_id,\\n        source.user_id AS customer_id,\\n        source.order_date AS order_date,\\n        source.status AS status\\n      FROM source\\n    )\\n    SELECT\\n      renamed.order_id AS order_id,\\n      renamed.customer_id AS customer_id,\\n      renamed.order_date AS order_date,\\n      renamed.status AS status\\n    FROM renamed\\n  ) AS \\\"jaffle_shop.main.stg_orders\\\" /* source: jaffle_shop.main.stg_orders */\\n), payments AS (\\n  SELECT\\n    \\\"jaffle_shop.main.stg_payments\\\".payment_id AS payment_id,\\n    \\\"jaffle_shop.main.stg_payments\\\".order_id AS order_id,\\n    \\\"jaffle_shop.main.stg_payments\\\".payment_method AS payment_method,\\n    \\\"jaffle_shop.main.stg_payments\\\".amount AS amount\\n  FROM (\\n    /* */\\n    WITH source AS (\\n      SELECT\\n        raw_payments.id AS id,\\n        raw_payments.order_id AS order_id,\\n        raw_payments.payment_method AS payment_method,\\n        raw_payments.amount AS amount\\n      FROM jaffle_shop.main.raw_payments AS raw_payments\\n    ), renamed AS (\\n      SELECT\\n        source.id AS payment_id,\\n        source.order_id AS order_id,\\n        source.payment_method AS payment_method,\\n        source.amount /* `amount` is currently stored in cents, so we convert it to dollars */ / 100 AS amount\\n      FROM source\\n    ), foo AS (\\n      SELECT\\n        renamed.payment_id AS payment_id,\\n        renamed.order_id AS order_id,\\n        renamed.payment_method AS payment_method,\\n        renamed.amount AS amount,\\n        renamed.payment_id AS foobar_id\\n      FROM renamed\\n    )\\n    SELECT\\n      renamed.payment_id AS payment_id,\\n      renamed.order_id AS order_id,\\n      renamed.payment_method AS payment_method,\\n      renamed.amount AS amount\\n    FROM renamed\\n  ) AS \\\"jaffle_shop.main.stg_payments\\\" /* source: jaffle_shop.main.stg_payments */\\n), customer_orders AS (\\n  SELECT\\n    orders.customer_id AS customer_id,\\n    MIN(orders.order_date) AS first_order,\\n    MAX(orders.order_date) AS most_recent_order,\\n    COUNT(orders.order_id) AS number_of_orders\\n  FROM orders\\n  GROUP BY\\n    orders.customer_id\\n), customer_payments AS (\\n  SELECT\\n    orders.customer_id AS customer_id,\\n    SUM(payments.amount) AS total_amount\\n  FROM payments\\n  LEFT JOIN orders\\n    ON payments.order_id = orders.order_id\\n  GROUP BY\\n    orders.customer_id\\n), final AS (\\n  SELECT\\n    customers.customer_id AS customer_id,\\n    customers.first_name AS first_name,\\n    customers.last_name AS last_name,\\n    customer_orders.first_order AS first_order,\\n    customer_orders.most_recent_order AS most_recent_order,\\n    customer_orders.number_of_orders AS number_of_orders,\\n    customer_payments.total_amount AS customer_lifetime_value\\n  FROM customers\\n  LEFT JOIN customer_orders\\n    ON customers.customer_id = customer_orders.customer_id\\n  LEFT JOIN customer_payments\\n    ON customers.customer_id = customer_payments.customer_id\\n)\\nSELECT\\n  <b>final.customer_id AS customer_id</b>\\nFROM final</pre>\", \"group\": 0}, {\"id\": 4406097232, \"label\": \"customers.customer_id AS customer_id\", \"title\": \"<pre>SELECT\\n  <b>customers.customer_id AS customer_id</b>\\nFROM customers\\nLEFT JOIN customer_orders\\n  ON customers.customer_id = customer_orders.customer_id\\nLEFT JOIN customer_payments\\n  ON customers.customer_id = customer_payments.customer_id</pre>\", \"group\": 0}, {\"id\": 4406096704, \"label\": \"\\\"jaffle_shop.main.stg_customers\\\".customer_id AS customer_id\", \"title\": \"<pre>SELECT\\n  <b>\\\"jaffle_shop.main.stg_customers\\\".customer_id AS customer_id</b>\\nFROM (\\n  WITH source AS (\\n    SELECT\\n      raw_customers.id AS id,\\n      raw_customers.first_name AS first_name,\\n      raw_customers.last_name AS last_name\\n    FROM jaffle_shop.main.raw_customers AS raw_customers\\n  ), renamed AS (\\n    SELECT\\n      source.id AS customer_id,\\n      source.first_name AS first_name,\\n      source.last_name AS last_name\\n    FROM source\\n  )\\n  SELECT\\n    renamed.customer_id AS customer_id,\\n    renamed.first_name AS first_name,\\n    renamed.last_name AS last_name\\n  FROM renamed\\n) AS \\\"jaffle_shop.main.stg_customers\\\" /* source: jaffle_shop.main.stg_customers */</pre>\", \"group\": 0}, {\"id\": 4406088736, \"label\": \"renamed.customer_id AS customer_id\", \"title\": \"<pre>WITH source AS (\\n  SELECT\\n    raw_customers.id AS id,\\n    raw_customers.first_name AS first_name,\\n    raw_customers.last_name AS last_name\\n  FROM jaffle_shop.main.raw_customers AS raw_customers\\n), renamed AS (\\n  SELECT\\n    source.id AS customer_id,\\n    source.first_name AS first_name,\\n    source.last_name AS last_name\\n  FROM source\\n)\\nSELECT\\n  <b>renamed.customer_id AS customer_id</b>\\nFROM renamed</pre>\", \"group\": 0}, {\"id\": 4406088688, \"label\": \"source.id AS customer_id\", \"title\": \"<pre>SELECT\\n  <b>source.id AS customer_id</b>\\nFROM source</pre>\", \"group\": 0}, {\"id\": 4406097712, \"label\": \"raw_customers.id AS id\", \"title\": \"<pre>SELECT\\n  <b>raw_customers.id AS id</b>\\nFROM jaffle_shop.main.raw_customers AS raw_customers</pre>\", \"group\": 0}, {\"id\": 4406097664, \"label\": \"FROM raw_customers\", \"title\": \"<pre>SELECT raw_customers.id FROM raw_customers</pre>\", \"group\": 1}])\n",
       "    nodes.forEach(row => row[\"title\"] = new DOMParser().parseFromString(row[\"title\"], \"text/html\").body.childNodes[0])\n",
       "\n",
       "    new vis.Network(\n",
       "        document.getElementById(\"sqlglot-lineage\"),\n",
       "        {\n",
       "            nodes: nodes,\n",
       "            edges: new vis.DataSet([{\"from\": 4384263856, \"to\": 4406097232}, {\"from\": 4406097232, \"to\": 4406096704}, {\"from\": 4406096704, \"to\": 4406088736}, {\"from\": 4406088736, \"to\": 4406088688}, {\"from\": 4406088688, \"to\": 4406097712}, {\"from\": 4406097712, \"to\": 4406097664}])\n",
       "        },\n",
       "        {\"height\": \"500px\", \"width\": \"100%\", \"layout\": {\"hierarchical\": {\"enabled\": true, \"nodeSpacing\": 200, \"sortMethod\": \"directed\"}}, \"interaction\": {\"dragNodes\": false, \"selectable\": false}, \"physics\": {\"enabled\": false}, \"edges\": {\"arrows\": \"to\"}, \"nodes\": {\"font\": \"20px monaco\", \"shape\": \"box\", \"widthConstraint\": {\"maximum\": 300}}},\n",
       "    )\n",
       "  </script>\n",
       "</div>"
      ],
      "text/plain": [
       "<sqlglot.lineage.LineageHTML at 0x1069fae60>"
      ]
     },
     "execution_count": 8,
     "metadata": {},
     "output_type": "execute_result"
    }
   ],
   "source": [
    "node = lineage(\"customer_id\", customers, sources=sources, schema=raw_schemas, dialect=\"duckdb\")\n",
    "node.to_html()"
   ]
  },
  {
   "cell_type": "code",
   "execution_count": 9,
   "id": "6e3a70d1-0f73-4b1f-8373-f69d69bf5d55",
   "metadata": {},
   "outputs": [
    {
     "data": {
      "text/html": [
       "<div>\n",
       "  <div id=\"sqlglot-lineage\"></div>\n",
       "  <script type=\"text/javascript\" src=\"https://unpkg.com/vis-data@latest/peer/umd/vis-data.min.js\"></script>\n",
       "  <script type=\"text/javascript\" src=\"https://unpkg.com/vis-network@latest/peer/umd/vis-network.min.js\"></script>\n",
       "  <link rel=\"stylesheet\" type=\"text/css\" href=\"https://unpkg.com/vis-network/styles/vis-network.min.css\" />\n",
       "  <script type=\"text/javascript\">\n",
       "    var nodes = new vis.DataSet([{\"id\": 4406093344, \"label\": \"final.first_name AS first_name\", \"title\": \"<pre>WITH customers AS (\\n  SELECT\\n    \\\"jaffle_shop.main.stg_customers\\\".customer_id AS customer_id,\\n    \\\"jaffle_shop.main.stg_customers\\\".first_name AS first_name,\\n    \\\"jaffle_shop.main.stg_customers\\\".last_name AS last_name\\n  FROM (\\n    WITH source AS (\\n      SELECT\\n        raw_customers.id AS id,\\n        raw_customers.first_name AS first_name,\\n        raw_customers.last_name AS last_name\\n      FROM jaffle_shop.main.raw_customers AS raw_customers\\n    ), renamed AS (\\n      SELECT\\n        source.id AS customer_id,\\n        source.first_name AS first_name,\\n        source.last_name AS last_name\\n      FROM source\\n    )\\n    SELECT\\n      renamed.customer_id AS customer_id,\\n      renamed.first_name AS first_name,\\n      renamed.last_name AS last_name\\n    FROM renamed\\n  ) AS \\\"jaffle_shop.main.stg_customers\\\" /* source: jaffle_shop.main.stg_customers */\\n), orders AS (\\n  SELECT\\n    \\\"jaffle_shop.main.stg_orders\\\".order_id AS order_id,\\n    \\\"jaffle_shop.main.stg_orders\\\".customer_id AS customer_id,\\n    \\\"jaffle_shop.main.stg_orders\\\".order_date AS order_date,\\n    \\\"jaffle_shop.main.stg_orders\\\".status AS status\\n  FROM (\\n    WITH source AS (\\n      SELECT\\n        raw_orders.id AS id,\\n        raw_orders.user_id AS user_id,\\n        raw_orders.order_date AS order_date,\\n        raw_orders.status AS status\\n      FROM jaffle_shop.main.raw_orders AS raw_orders\\n    ), renamed AS (\\n      SELECT\\n        source.id AS order_id,\\n        source.user_id AS customer_id,\\n        source.order_date AS order_date,\\n        source.status AS status\\n      FROM source\\n    )\\n    SELECT\\n      renamed.order_id AS order_id,\\n      renamed.customer_id AS customer_id,\\n      renamed.order_date AS order_date,\\n      renamed.status AS status\\n    FROM renamed\\n  ) AS \\\"jaffle_shop.main.stg_orders\\\" /* source: jaffle_shop.main.stg_orders */\\n), payments AS (\\n  SELECT\\n    \\\"jaffle_shop.main.stg_payments\\\".payment_id AS payment_id,\\n    \\\"jaffle_shop.main.stg_payments\\\".order_id AS order_id,\\n    \\\"jaffle_shop.main.stg_payments\\\".payment_method AS payment_method,\\n    \\\"jaffle_shop.main.stg_payments\\\".amount AS amount\\n  FROM (\\n    /* */\\n    WITH source AS (\\n      SELECT\\n        raw_payments.id AS id,\\n        raw_payments.order_id AS order_id,\\n        raw_payments.payment_method AS payment_method,\\n        raw_payments.amount AS amount\\n      FROM jaffle_shop.main.raw_payments AS raw_payments\\n    ), renamed AS (\\n      SELECT\\n        source.id AS payment_id,\\n        source.order_id AS order_id,\\n        source.payment_method AS payment_method,\\n        source.amount /* `amount` is currently stored in cents, so we convert it to dollars */ / 100 AS amount\\n      FROM source\\n    ), foo AS (\\n      SELECT\\n        renamed.payment_id AS payment_id,\\n        renamed.order_id AS order_id,\\n        renamed.payment_method AS payment_method,\\n        renamed.amount AS amount,\\n        renamed.payment_id AS foobar_id\\n      FROM renamed\\n    )\\n    SELECT\\n      renamed.payment_id AS payment_id,\\n      renamed.order_id AS order_id,\\n      renamed.payment_method AS payment_method,\\n      renamed.amount AS amount\\n    FROM renamed\\n  ) AS \\\"jaffle_shop.main.stg_payments\\\" /* source: jaffle_shop.main.stg_payments */\\n), customer_orders AS (\\n  SELECT\\n    orders.customer_id AS customer_id,\\n    MIN(orders.order_date) AS first_order,\\n    MAX(orders.order_date) AS most_recent_order,\\n    COUNT(orders.order_id) AS number_of_orders\\n  FROM orders\\n  GROUP BY\\n    orders.customer_id\\n), customer_payments AS (\\n  SELECT\\n    orders.customer_id AS customer_id,\\n    SUM(payments.amount) AS total_amount\\n  FROM payments\\n  LEFT JOIN orders\\n    ON payments.order_id = orders.order_id\\n  GROUP BY\\n    orders.customer_id\\n), final AS (\\n  SELECT\\n    customers.customer_id AS customer_id,\\n    customers.first_name AS first_name,\\n    customers.last_name AS last_name,\\n    customer_orders.first_order AS first_order,\\n    customer_orders.most_recent_order AS most_recent_order,\\n    customer_orders.number_of_orders AS number_of_orders,\\n    customer_payments.total_amount AS customer_lifetime_value\\n  FROM customers\\n  LEFT JOIN customer_orders\\n    ON customers.customer_id = customer_orders.customer_id\\n  LEFT JOIN customer_payments\\n    ON customers.customer_id = customer_payments.customer_id\\n)\\nSELECT\\n  <b>final.first_name AS first_name</b>\\nFROM final</pre>\", \"group\": 0}, {\"id\": 4406095648, \"label\": \"customers.first_name AS first_name\", \"title\": \"<pre>SELECT\\n  <b>customers.first_name AS first_name</b>\\nFROM customers\\nLEFT JOIN customer_orders\\n  ON customers.customer_id = customer_orders.customer_id\\nLEFT JOIN customer_payments\\n  ON customers.customer_id = customer_payments.customer_id</pre>\", \"group\": 0}, {\"id\": 4406095168, \"label\": \"\\\"jaffle_shop.main.stg_customers\\\".first_name AS first_name\", \"title\": \"<pre>SELECT\\n  <b>\\\"jaffle_shop.main.stg_customers\\\".first_name AS first_name</b>\\nFROM (\\n  WITH source AS (\\n    SELECT\\n      raw_customers.id AS id,\\n      raw_customers.first_name AS first_name,\\n      raw_customers.last_name AS last_name\\n    FROM jaffle_shop.main.raw_customers AS raw_customers\\n  ), renamed AS (\\n    SELECT\\n      source.id AS customer_id,\\n      source.first_name AS first_name,\\n      source.last_name AS last_name\\n    FROM source\\n  )\\n  SELECT\\n    renamed.customer_id AS customer_id,\\n    renamed.first_name AS first_name,\\n    renamed.last_name AS last_name\\n  FROM renamed\\n) AS \\\"jaffle_shop.main.stg_customers\\\" /* source: jaffle_shop.main.stg_customers */</pre>\", \"group\": 0}, {\"id\": 4406093104, \"label\": \"renamed.first_name AS first_name\", \"title\": \"<pre>WITH source AS (\\n  SELECT\\n    raw_customers.id AS id,\\n    raw_customers.first_name AS first_name,\\n    raw_customers.last_name AS last_name\\n  FROM jaffle_shop.main.raw_customers AS raw_customers\\n), renamed AS (\\n  SELECT\\n    source.id AS customer_id,\\n    source.first_name AS first_name,\\n    source.last_name AS last_name\\n  FROM source\\n)\\nSELECT\\n  <b>renamed.first_name AS first_name</b>\\nFROM renamed</pre>\", \"group\": 0}, {\"id\": 4406088304, \"label\": \"source.first_name AS first_name\", \"title\": \"<pre>SELECT\\n  <b>source.first_name AS first_name</b>\\nFROM source</pre>\", \"group\": 0}, {\"id\": 4406088160, \"label\": \"raw_customers.first_name AS first_name\", \"title\": \"<pre>SELECT\\n  <b>raw_customers.first_name AS first_name</b>\\nFROM jaffle_shop.main.raw_customers AS raw_customers</pre>\", \"group\": 0}, {\"id\": 4406087968, \"label\": \"FROM raw_customers\", \"title\": \"<pre>SELECT raw_customers.first_name FROM raw_customers</pre>\", \"group\": 1}])\n",
       "    nodes.forEach(row => row[\"title\"] = new DOMParser().parseFromString(row[\"title\"], \"text/html\").body.childNodes[0])\n",
       "\n",
       "    new vis.Network(\n",
       "        document.getElementById(\"sqlglot-lineage\"),\n",
       "        {\n",
       "            nodes: nodes,\n",
       "            edges: new vis.DataSet([{\"from\": 4406093344, \"to\": 4406095648}, {\"from\": 4406095648, \"to\": 4406095168}, {\"from\": 4406095168, \"to\": 4406093104}, {\"from\": 4406093104, \"to\": 4406088304}, {\"from\": 4406088304, \"to\": 4406088160}, {\"from\": 4406088160, \"to\": 4406087968}])\n",
       "        },\n",
       "        {\"height\": \"500px\", \"width\": \"100%\", \"layout\": {\"hierarchical\": {\"enabled\": true, \"nodeSpacing\": 200, \"sortMethod\": \"directed\"}}, \"interaction\": {\"dragNodes\": false, \"selectable\": false}, \"physics\": {\"enabled\": false}, \"edges\": {\"arrows\": \"to\"}, \"nodes\": {\"font\": \"20px monaco\", \"shape\": \"box\", \"widthConstraint\": {\"maximum\": 300}}},\n",
       "    )\n",
       "  </script>\n",
       "</div>"
      ],
      "text/plain": [
       "<sqlglot.lineage.LineageHTML at 0x1069fb5e0>"
      ]
     },
     "execution_count": 9,
     "metadata": {},
     "output_type": "execute_result"
    }
   ],
   "source": [
    "node = lineage(\"first_name\", customers, sources=sources, schema=raw_schemas, dialect=\"duckdb\")\n",
    "node.to_html()"
   ]
  },
  {
   "cell_type": "code",
   "execution_count": 10,
   "id": "10348676-d8a0-4b4c-b8a6-239ad46b0032",
   "metadata": {},
   "outputs": [
    {
     "data": {
      "text/html": [
       "<div>\n",
       "  <div id=\"sqlglot-lineage\"></div>\n",
       "  <script type=\"text/javascript\" src=\"https://unpkg.com/vis-data@latest/peer/umd/vis-data.min.js\"></script>\n",
       "  <script type=\"text/javascript\" src=\"https://unpkg.com/vis-network@latest/peer/umd/vis-network.min.js\"></script>\n",
       "  <link rel=\"stylesheet\" type=\"text/css\" href=\"https://unpkg.com/vis-network/styles/vis-network.min.css\" />\n",
       "  <script type=\"text/javascript\">\n",
       "    var nodes = new vis.DataSet([{\"id\": 4406174640, \"label\": \"final.last_name AS last_name\", \"title\": \"<pre>WITH customers AS (\\n  SELECT\\n    \\\"jaffle_shop.main.stg_customers\\\".customer_id AS customer_id,\\n    \\\"jaffle_shop.main.stg_customers\\\".first_name AS first_name,\\n    \\\"jaffle_shop.main.stg_customers\\\".last_name AS last_name\\n  FROM (\\n    WITH source AS (\\n      SELECT\\n        raw_customers.id AS id,\\n        raw_customers.first_name AS first_name,\\n        raw_customers.last_name AS last_name\\n      FROM jaffle_shop.main.raw_customers AS raw_customers\\n    ), renamed AS (\\n      SELECT\\n        source.id AS customer_id,\\n        source.first_name AS first_name,\\n        source.last_name AS last_name\\n      FROM source\\n    )\\n    SELECT\\n      renamed.customer_id AS customer_id,\\n      renamed.first_name AS first_name,\\n      renamed.last_name AS last_name\\n    FROM renamed\\n  ) AS \\\"jaffle_shop.main.stg_customers\\\" /* source: jaffle_shop.main.stg_customers */\\n), orders AS (\\n  SELECT\\n    \\\"jaffle_shop.main.stg_orders\\\".order_id AS order_id,\\n    \\\"jaffle_shop.main.stg_orders\\\".customer_id AS customer_id,\\n    \\\"jaffle_shop.main.stg_orders\\\".order_date AS order_date,\\n    \\\"jaffle_shop.main.stg_orders\\\".status AS status\\n  FROM (\\n    WITH source AS (\\n      SELECT\\n        raw_orders.id AS id,\\n        raw_orders.user_id AS user_id,\\n        raw_orders.order_date AS order_date,\\n        raw_orders.status AS status\\n      FROM jaffle_shop.main.raw_orders AS raw_orders\\n    ), renamed AS (\\n      SELECT\\n        source.id AS order_id,\\n        source.user_id AS customer_id,\\n        source.order_date AS order_date,\\n        source.status AS status\\n      FROM source\\n    )\\n    SELECT\\n      renamed.order_id AS order_id,\\n      renamed.customer_id AS customer_id,\\n      renamed.order_date AS order_date,\\n      renamed.status AS status\\n    FROM renamed\\n  ) AS \\\"jaffle_shop.main.stg_orders\\\" /* source: jaffle_shop.main.stg_orders */\\n), payments AS (\\n  SELECT\\n    \\\"jaffle_shop.main.stg_payments\\\".payment_id AS payment_id,\\n    \\\"jaffle_shop.main.stg_payments\\\".order_id AS order_id,\\n    \\\"jaffle_shop.main.stg_payments\\\".payment_method AS payment_method,\\n    \\\"jaffle_shop.main.stg_payments\\\".amount AS amount\\n  FROM (\\n    /* */\\n    WITH source AS (\\n      SELECT\\n        raw_payments.id AS id,\\n        raw_payments.order_id AS order_id,\\n        raw_payments.payment_method AS payment_method,\\n        raw_payments.amount AS amount\\n      FROM jaffle_shop.main.raw_payments AS raw_payments\\n    ), renamed AS (\\n      SELECT\\n        source.id AS payment_id,\\n        source.order_id AS order_id,\\n        source.payment_method AS payment_method,\\n        source.amount /* `amount` is currently stored in cents, so we convert it to dollars */ / 100 AS amount\\n      FROM source\\n    ), foo AS (\\n      SELECT\\n        renamed.payment_id AS payment_id,\\n        renamed.order_id AS order_id,\\n        renamed.payment_method AS payment_method,\\n        renamed.amount AS amount,\\n        renamed.payment_id AS foobar_id\\n      FROM renamed\\n    )\\n    SELECT\\n      renamed.payment_id AS payment_id,\\n      renamed.order_id AS order_id,\\n      renamed.payment_method AS payment_method,\\n      renamed.amount AS amount\\n    FROM renamed\\n  ) AS \\\"jaffle_shop.main.stg_payments\\\" /* source: jaffle_shop.main.stg_payments */\\n), customer_orders AS (\\n  SELECT\\n    orders.customer_id AS customer_id,\\n    MIN(orders.order_date) AS first_order,\\n    MAX(orders.order_date) AS most_recent_order,\\n    COUNT(orders.order_id) AS number_of_orders\\n  FROM orders\\n  GROUP BY\\n    orders.customer_id\\n), customer_payments AS (\\n  SELECT\\n    orders.customer_id AS customer_id,\\n    SUM(payments.amount) AS total_amount\\n  FROM payments\\n  LEFT JOIN orders\\n    ON payments.order_id = orders.order_id\\n  GROUP BY\\n    orders.customer_id\\n), final AS (\\n  SELECT\\n    customers.customer_id AS customer_id,\\n    customers.first_name AS first_name,\\n    customers.last_name AS last_name,\\n    customer_orders.first_order AS first_order,\\n    customer_orders.most_recent_order AS most_recent_order,\\n    customer_orders.number_of_orders AS number_of_orders,\\n    customer_payments.total_amount AS customer_lifetime_value\\n  FROM customers\\n  LEFT JOIN customer_orders\\n    ON customers.customer_id = customer_orders.customer_id\\n  LEFT JOIN customer_payments\\n    ON customers.customer_id = customer_payments.customer_id\\n)\\nSELECT\\n  <b>final.last_name AS last_name</b>\\nFROM final</pre>\", \"group\": 0}, {\"id\": 4406087872, \"label\": \"customers.last_name AS last_name\", \"title\": \"<pre>SELECT\\n  <b>customers.last_name AS last_name</b>\\nFROM customers\\nLEFT JOIN customer_orders\\n  ON customers.customer_id = customer_orders.customer_id\\nLEFT JOIN customer_payments\\n  ON customers.customer_id = customer_payments.customer_id</pre>\", \"group\": 0}, {\"id\": 4406092048, \"label\": \"\\\"jaffle_shop.main.stg_customers\\\".last_name AS last_name\", \"title\": \"<pre>SELECT\\n  <b>\\\"jaffle_shop.main.stg_customers\\\".last_name AS last_name</b>\\nFROM (\\n  WITH source AS (\\n    SELECT\\n      raw_customers.id AS id,\\n      raw_customers.first_name AS first_name,\\n      raw_customers.last_name AS last_name\\n    FROM jaffle_shop.main.raw_customers AS raw_customers\\n  ), renamed AS (\\n    SELECT\\n      source.id AS customer_id,\\n      source.first_name AS first_name,\\n      source.last_name AS last_name\\n    FROM source\\n  )\\n  SELECT\\n    renamed.customer_id AS customer_id,\\n    renamed.first_name AS first_name,\\n    renamed.last_name AS last_name\\n  FROM renamed\\n) AS \\\"jaffle_shop.main.stg_customers\\\" /* source: jaffle_shop.main.stg_customers */</pre>\", \"group\": 0}, {\"id\": 4406088928, \"label\": \"renamed.last_name AS last_name\", \"title\": \"<pre>WITH source AS (\\n  SELECT\\n    raw_customers.id AS id,\\n    raw_customers.first_name AS first_name,\\n    raw_customers.last_name AS last_name\\n  FROM jaffle_shop.main.raw_customers AS raw_customers\\n), renamed AS (\\n  SELECT\\n    source.id AS customer_id,\\n    source.first_name AS first_name,\\n    source.last_name AS last_name\\n  FROM source\\n)\\nSELECT\\n  <b>renamed.last_name AS last_name</b>\\nFROM renamed</pre>\", \"group\": 0}, {\"id\": 4406083984, \"label\": \"source.last_name AS last_name\", \"title\": \"<pre>SELECT\\n  <b>source.last_name AS last_name</b>\\nFROM source</pre>\", \"group\": 0}, {\"id\": 4406088784, \"label\": \"raw_customers.last_name AS last_name\", \"title\": \"<pre>SELECT\\n  <b>raw_customers.last_name AS last_name</b>\\nFROM jaffle_shop.main.raw_customers AS raw_customers</pre>\", \"group\": 0}, {\"id\": 4406087440, \"label\": \"FROM raw_customers\", \"title\": \"<pre>SELECT raw_customers.last_name FROM raw_customers</pre>\", \"group\": 1}])\n",
       "    nodes.forEach(row => row[\"title\"] = new DOMParser().parseFromString(row[\"title\"], \"text/html\").body.childNodes[0])\n",
       "\n",
       "    new vis.Network(\n",
       "        document.getElementById(\"sqlglot-lineage\"),\n",
       "        {\n",
       "            nodes: nodes,\n",
       "            edges: new vis.DataSet([{\"from\": 4406174640, \"to\": 4406087872}, {\"from\": 4406087872, \"to\": 4406092048}, {\"from\": 4406092048, \"to\": 4406088928}, {\"from\": 4406088928, \"to\": 4406083984}, {\"from\": 4406083984, \"to\": 4406088784}, {\"from\": 4406088784, \"to\": 4406087440}])\n",
       "        },\n",
       "        {\"height\": \"500px\", \"width\": \"100%\", \"layout\": {\"hierarchical\": {\"enabled\": true, \"nodeSpacing\": 200, \"sortMethod\": \"directed\"}}, \"interaction\": {\"dragNodes\": false, \"selectable\": false}, \"physics\": {\"enabled\": false}, \"edges\": {\"arrows\": \"to\"}, \"nodes\": {\"font\": \"20px monaco\", \"shape\": \"box\", \"widthConstraint\": {\"maximum\": 300}}},\n",
       "    )\n",
       "  </script>\n",
       "</div>"
      ],
      "text/plain": [
       "<sqlglot.lineage.LineageHTML at 0x1069fb760>"
      ]
     },
     "execution_count": 10,
     "metadata": {},
     "output_type": "execute_result"
    }
   ],
   "source": [
    "node = lineage(\"last_name\", customers, sources=sources, schema=raw_schemas, dialect=\"duckdb\")\n",
    "node.to_html()"
   ]
  },
  {
   "cell_type": "code",
   "execution_count": 11,
   "id": "7532f7e3-e5a3-4ac6-bae3-567819e94696",
   "metadata": {},
   "outputs": [
    {
     "data": {
      "text/html": [
       "<div>\n",
       "  <div id=\"sqlglot-lineage\"></div>\n",
       "  <script type=\"text/javascript\" src=\"https://unpkg.com/vis-data@latest/peer/umd/vis-data.min.js\"></script>\n",
       "  <script type=\"text/javascript\" src=\"https://unpkg.com/vis-network@latest/peer/umd/vis-network.min.js\"></script>\n",
       "  <link rel=\"stylesheet\" type=\"text/css\" href=\"https://unpkg.com/vis-network/styles/vis-network.min.css\" />\n",
       "  <script type=\"text/javascript\">\n",
       "    var nodes = new vis.DataSet([{\"id\": 4406287024, \"label\": \"final.most_recent_order AS most_recent_order\", \"title\": \"<pre>WITH customers AS (\\n  SELECT\\n    \\\"jaffle_shop.main.stg_customers\\\".customer_id AS customer_id,\\n    \\\"jaffle_shop.main.stg_customers\\\".first_name AS first_name,\\n    \\\"jaffle_shop.main.stg_customers\\\".last_name AS last_name\\n  FROM (\\n    WITH source AS (\\n      SELECT\\n        raw_customers.id AS id,\\n        raw_customers.first_name AS first_name,\\n        raw_customers.last_name AS last_name\\n      FROM jaffle_shop.main.raw_customers AS raw_customers\\n    ), renamed AS (\\n      SELECT\\n        source.id AS customer_id,\\n        source.first_name AS first_name,\\n        source.last_name AS last_name\\n      FROM source\\n    )\\n    SELECT\\n      renamed.customer_id AS customer_id,\\n      renamed.first_name AS first_name,\\n      renamed.last_name AS last_name\\n    FROM renamed\\n  ) AS \\\"jaffle_shop.main.stg_customers\\\" /* source: jaffle_shop.main.stg_customers */\\n), orders AS (\\n  SELECT\\n    \\\"jaffle_shop.main.stg_orders\\\".order_id AS order_id,\\n    \\\"jaffle_shop.main.stg_orders\\\".customer_id AS customer_id,\\n    \\\"jaffle_shop.main.stg_orders\\\".order_date AS order_date,\\n    \\\"jaffle_shop.main.stg_orders\\\".status AS status\\n  FROM (\\n    WITH source AS (\\n      SELECT\\n        raw_orders.id AS id,\\n        raw_orders.user_id AS user_id,\\n        raw_orders.order_date AS order_date,\\n        raw_orders.status AS status\\n      FROM jaffle_shop.main.raw_orders AS raw_orders\\n    ), renamed AS (\\n      SELECT\\n        source.id AS order_id,\\n        source.user_id AS customer_id,\\n        source.order_date AS order_date,\\n        source.status AS status\\n      FROM source\\n    )\\n    SELECT\\n      renamed.order_id AS order_id,\\n      renamed.customer_id AS customer_id,\\n      renamed.order_date AS order_date,\\n      renamed.status AS status\\n    FROM renamed\\n  ) AS \\\"jaffle_shop.main.stg_orders\\\" /* source: jaffle_shop.main.stg_orders */\\n), payments AS (\\n  SELECT\\n    \\\"jaffle_shop.main.stg_payments\\\".payment_id AS payment_id,\\n    \\\"jaffle_shop.main.stg_payments\\\".order_id AS order_id,\\n    \\\"jaffle_shop.main.stg_payments\\\".payment_method AS payment_method,\\n    \\\"jaffle_shop.main.stg_payments\\\".amount AS amount\\n  FROM (\\n    /* */\\n    WITH source AS (\\n      SELECT\\n        raw_payments.id AS id,\\n        raw_payments.order_id AS order_id,\\n        raw_payments.payment_method AS payment_method,\\n        raw_payments.amount AS amount\\n      FROM jaffle_shop.main.raw_payments AS raw_payments\\n    ), renamed AS (\\n      SELECT\\n        source.id AS payment_id,\\n        source.order_id AS order_id,\\n        source.payment_method AS payment_method,\\n        source.amount /* `amount` is currently stored in cents, so we convert it to dollars */ / 100 AS amount\\n      FROM source\\n    ), foo AS (\\n      SELECT\\n        renamed.payment_id AS payment_id,\\n        renamed.order_id AS order_id,\\n        renamed.payment_method AS payment_method,\\n        renamed.amount AS amount,\\n        renamed.payment_id AS foobar_id\\n      FROM renamed\\n    )\\n    SELECT\\n      renamed.payment_id AS payment_id,\\n      renamed.order_id AS order_id,\\n      renamed.payment_method AS payment_method,\\n      renamed.amount AS amount\\n    FROM renamed\\n  ) AS \\\"jaffle_shop.main.stg_payments\\\" /* source: jaffle_shop.main.stg_payments */\\n), customer_orders AS (\\n  SELECT\\n    orders.customer_id AS customer_id,\\n    MIN(orders.order_date) AS first_order,\\n    MAX(orders.order_date) AS most_recent_order,\\n    COUNT(orders.order_id) AS number_of_orders\\n  FROM orders\\n  GROUP BY\\n    orders.customer_id\\n), customer_payments AS (\\n  SELECT\\n    orders.customer_id AS customer_id,\\n    SUM(payments.amount) AS total_amount\\n  FROM payments\\n  LEFT JOIN orders\\n    ON payments.order_id = orders.order_id\\n  GROUP BY\\n    orders.customer_id\\n), final AS (\\n  SELECT\\n    customers.customer_id AS customer_id,\\n    customers.first_name AS first_name,\\n    customers.last_name AS last_name,\\n    customer_orders.first_order AS first_order,\\n    customer_orders.most_recent_order AS most_recent_order,\\n    customer_orders.number_of_orders AS number_of_orders,\\n    customer_payments.total_amount AS customer_lifetime_value\\n  FROM customers\\n  LEFT JOIN customer_orders\\n    ON customers.customer_id = customer_orders.customer_id\\n  LEFT JOIN customer_payments\\n    ON customers.customer_id = customer_payments.customer_id\\n)\\nSELECT\\n  <b>final.most_recent_order AS most_recent_order</b>\\nFROM final</pre>\", \"group\": 0}, {\"id\": 4384274032, \"label\": \"customer_orders.most_recent_order AS most_recent_order\", \"title\": \"<pre>SELECT\\n  <b>customer_orders.most_recent_order AS most_recent_order</b>\\nFROM customers\\nLEFT JOIN customer_orders\\n  ON customers.customer_id = customer_orders.customer_id\\nLEFT JOIN customer_payments\\n  ON customers.customer_id = customer_payments.customer_id</pre>\", \"group\": 0}, {\"id\": 4384260976, \"label\": \"MAX(orders.order_date) AS most_recent_order\", \"title\": \"<pre>SELECT\\n  <b>MAX(orders.order_date) AS most_recent_order</b>\\nFROM orders\\nGROUP BY\\n  orders.customer_id</pre>\", \"group\": 0}, {\"id\": 4384263616, \"label\": \"\\\"jaffle_shop.main.stg_orders\\\".order_date AS order_date\", \"title\": \"<pre>SELECT\\n  <b>\\\"jaffle_shop.main.stg_orders\\\".order_date AS order_date</b>\\nFROM (\\n  WITH source AS (\\n    SELECT\\n      raw_orders.id AS id,\\n      raw_orders.user_id AS user_id,\\n      raw_orders.order_date AS order_date,\\n      raw_orders.status AS status\\n    FROM jaffle_shop.main.raw_orders AS raw_orders\\n  ), renamed AS (\\n    SELECT\\n      source.id AS order_id,\\n      source.user_id AS customer_id,\\n      source.order_date AS order_date,\\n      source.status AS status\\n    FROM source\\n  )\\n  SELECT\\n    renamed.order_id AS order_id,\\n    renamed.customer_id AS customer_id,\\n    renamed.order_date AS order_date,\\n    renamed.status AS status\\n  FROM renamed\\n) AS \\\"jaffle_shop.main.stg_orders\\\" /* source: jaffle_shop.main.stg_orders */</pre>\", \"group\": 0}, {\"id\": 4406093392, \"label\": \"renamed.order_date AS order_date\", \"title\": \"<pre>WITH source AS (\\n  SELECT\\n    raw_orders.id AS id,\\n    raw_orders.user_id AS user_id,\\n    raw_orders.order_date AS order_date,\\n    raw_orders.status AS status\\n  FROM jaffle_shop.main.raw_orders AS raw_orders\\n), renamed AS (\\n  SELECT\\n    source.id AS order_id,\\n    source.user_id AS customer_id,\\n    source.order_date AS order_date,\\n    source.status AS status\\n  FROM source\\n)\\nSELECT\\n  <b>renamed.order_date AS order_date</b>\\nFROM renamed</pre>\", \"group\": 0}, {\"id\": 4406088112, \"label\": \"source.order_date AS order_date\", \"title\": \"<pre>SELECT\\n  <b>source.order_date AS order_date</b>\\nFROM source</pre>\", \"group\": 0}, {\"id\": 4406096992, \"label\": \"raw_orders.order_date AS order_date\", \"title\": \"<pre>SELECT\\n  <b>raw_orders.order_date AS order_date</b>\\nFROM jaffle_shop.main.raw_orders AS raw_orders</pre>\", \"group\": 0}, {\"id\": 4406095696, \"label\": \"FROM raw_orders\", \"title\": \"<pre>SELECT raw_orders.order_date FROM raw_orders</pre>\", \"group\": 1}])\n",
       "    nodes.forEach(row => row[\"title\"] = new DOMParser().parseFromString(row[\"title\"], \"text/html\").body.childNodes[0])\n",
       "\n",
       "    new vis.Network(\n",
       "        document.getElementById(\"sqlglot-lineage\"),\n",
       "        {\n",
       "            nodes: nodes,\n",
       "            edges: new vis.DataSet([{\"from\": 4406287024, \"to\": 4384274032}, {\"from\": 4384274032, \"to\": 4384260976}, {\"from\": 4384260976, \"to\": 4384263616}, {\"from\": 4384263616, \"to\": 4406093392}, {\"from\": 4406093392, \"to\": 4406088112}, {\"from\": 4406088112, \"to\": 4406096992}, {\"from\": 4406096992, \"to\": 4406095696}])\n",
       "        },\n",
       "        {\"height\": \"500px\", \"width\": \"100%\", \"layout\": {\"hierarchical\": {\"enabled\": true, \"nodeSpacing\": 200, \"sortMethod\": \"directed\"}}, \"interaction\": {\"dragNodes\": false, \"selectable\": false}, \"physics\": {\"enabled\": false}, \"edges\": {\"arrows\": \"to\"}, \"nodes\": {\"font\": \"20px monaco\", \"shape\": \"box\", \"widthConstraint\": {\"maximum\": 300}}},\n",
       "    )\n",
       "  </script>\n",
       "</div>"
      ],
      "text/plain": [
       "<sqlglot.lineage.LineageHTML at 0x1055284c0>"
      ]
     },
     "execution_count": 11,
     "metadata": {},
     "output_type": "execute_result"
    }
   ],
   "source": [
    "node = lineage(\"most_recent_order\", customers, sources=sources, schema=raw_schemas, dialect=\"duckdb\")\n",
    "node.to_html()"
   ]
  },
  {
   "cell_type": "code",
   "execution_count": 12,
   "id": "1ccf80e0",
   "metadata": {},
   "outputs": [
    {
     "data": {
      "text/html": [
       "<div>\n",
       "  <div id=\"sqlglot-lineage\"></div>\n",
       "  <script type=\"text/javascript\" src=\"https://unpkg.com/vis-data@latest/peer/umd/vis-data.min.js\"></script>\n",
       "  <script type=\"text/javascript\" src=\"https://unpkg.com/vis-network@latest/peer/umd/vis-network.min.js\"></script>\n",
       "  <link rel=\"stylesheet\" type=\"text/css\" href=\"https://unpkg.com/vis-network/styles/vis-network.min.css\" />\n",
       "  <script type=\"text/javascript\">\n",
       "    var nodes = new vis.DataSet([{\"id\": 4405739136, \"label\": \"final.number_of_orders AS number_of_orders\", \"title\": \"<pre>WITH customers AS (\\n  SELECT\\n    \\\"jaffle_shop.main.stg_customers\\\".customer_id AS customer_id,\\n    \\\"jaffle_shop.main.stg_customers\\\".first_name AS first_name,\\n    \\\"jaffle_shop.main.stg_customers\\\".last_name AS last_name\\n  FROM (\\n    WITH source AS (\\n      SELECT\\n        raw_customers.id AS id,\\n        raw_customers.first_name AS first_name,\\n        raw_customers.last_name AS last_name\\n      FROM jaffle_shop.main.raw_customers AS raw_customers\\n    ), renamed AS (\\n      SELECT\\n        source.id AS customer_id,\\n        source.first_name AS first_name,\\n        source.last_name AS last_name\\n      FROM source\\n    )\\n    SELECT\\n      renamed.customer_id AS customer_id,\\n      renamed.first_name AS first_name,\\n      renamed.last_name AS last_name\\n    FROM renamed\\n  ) AS \\\"jaffle_shop.main.stg_customers\\\" /* source: jaffle_shop.main.stg_customers */\\n), orders AS (\\n  SELECT\\n    \\\"jaffle_shop.main.stg_orders\\\".order_id AS order_id,\\n    \\\"jaffle_shop.main.stg_orders\\\".customer_id AS customer_id,\\n    \\\"jaffle_shop.main.stg_orders\\\".order_date AS order_date,\\n    \\\"jaffle_shop.main.stg_orders\\\".status AS status\\n  FROM (\\n    WITH source AS (\\n      SELECT\\n        raw_orders.id AS id,\\n        raw_orders.user_id AS user_id,\\n        raw_orders.order_date AS order_date,\\n        raw_orders.status AS status\\n      FROM jaffle_shop.main.raw_orders AS raw_orders\\n    ), renamed AS (\\n      SELECT\\n        source.id AS order_id,\\n        source.user_id AS customer_id,\\n        source.order_date AS order_date,\\n        source.status AS status\\n      FROM source\\n    )\\n    SELECT\\n      renamed.order_id AS order_id,\\n      renamed.customer_id AS customer_id,\\n      renamed.order_date AS order_date,\\n      renamed.status AS status\\n    FROM renamed\\n  ) AS \\\"jaffle_shop.main.stg_orders\\\" /* source: jaffle_shop.main.stg_orders */\\n), payments AS (\\n  SELECT\\n    \\\"jaffle_shop.main.stg_payments\\\".payment_id AS payment_id,\\n    \\\"jaffle_shop.main.stg_payments\\\".order_id AS order_id,\\n    \\\"jaffle_shop.main.stg_payments\\\".payment_method AS payment_method,\\n    \\\"jaffle_shop.main.stg_payments\\\".amount AS amount\\n  FROM (\\n    /* */\\n    WITH source AS (\\n      SELECT\\n        raw_payments.id AS id,\\n        raw_payments.order_id AS order_id,\\n        raw_payments.payment_method AS payment_method,\\n        raw_payments.amount AS amount\\n      FROM jaffle_shop.main.raw_payments AS raw_payments\\n    ), renamed AS (\\n      SELECT\\n        source.id AS payment_id,\\n        source.order_id AS order_id,\\n        source.payment_method AS payment_method,\\n        source.amount /* `amount` is currently stored in cents, so we convert it to dollars */ / 100 AS amount\\n      FROM source\\n    ), foo AS (\\n      SELECT\\n        renamed.payment_id AS payment_id,\\n        renamed.order_id AS order_id,\\n        renamed.payment_method AS payment_method,\\n        renamed.amount AS amount,\\n        renamed.payment_id AS foobar_id\\n      FROM renamed\\n    )\\n    SELECT\\n      renamed.payment_id AS payment_id,\\n      renamed.order_id AS order_id,\\n      renamed.payment_method AS payment_method,\\n      renamed.amount AS amount\\n    FROM renamed\\n  ) AS \\\"jaffle_shop.main.stg_payments\\\" /* source: jaffle_shop.main.stg_payments */\\n), customer_orders AS (\\n  SELECT\\n    orders.customer_id AS customer_id,\\n    MIN(orders.order_date) AS first_order,\\n    MAX(orders.order_date) AS most_recent_order,\\n    COUNT(orders.order_id) AS number_of_orders\\n  FROM orders\\n  GROUP BY\\n    orders.customer_id\\n), customer_payments AS (\\n  SELECT\\n    orders.customer_id AS customer_id,\\n    SUM(payments.amount) AS total_amount\\n  FROM payments\\n  LEFT JOIN orders\\n    ON payments.order_id = orders.order_id\\n  GROUP BY\\n    orders.customer_id\\n), final AS (\\n  SELECT\\n    customers.customer_id AS customer_id,\\n    customers.first_name AS first_name,\\n    customers.last_name AS last_name,\\n    customer_orders.first_order AS first_order,\\n    customer_orders.most_recent_order AS most_recent_order,\\n    customer_orders.number_of_orders AS number_of_orders,\\n    customer_payments.total_amount AS customer_lifetime_value\\n  FROM customers\\n  LEFT JOIN customer_orders\\n    ON customers.customer_id = customer_orders.customer_id\\n  LEFT JOIN customer_payments\\n    ON customers.customer_id = customer_payments.customer_id\\n)\\nSELECT\\n  <b>final.number_of_orders AS number_of_orders</b>\\nFROM final</pre>\", \"group\": 0}, {\"id\": 4405738128, \"label\": \"customer_orders.number_of_orders AS number_of_orders\", \"title\": \"<pre>SELECT\\n  <b>customer_orders.number_of_orders AS number_of_orders</b>\\nFROM customers\\nLEFT JOIN customer_orders\\n  ON customers.customer_id = customer_orders.customer_id\\nLEFT JOIN customer_payments\\n  ON customers.customer_id = customer_payments.customer_id</pre>\", \"group\": 0}, {\"id\": 4405734624, \"label\": \"COUNT(orders.order_id) AS number_of_orders\", \"title\": \"<pre>SELECT\\n  <b>COUNT(orders.order_id) AS number_of_orders</b>\\nFROM orders\\nGROUP BY\\n  orders.customer_id</pre>\", \"group\": 0}, {\"id\": 4405727808, \"label\": \"\\\"jaffle_shop.main.stg_orders\\\".order_id AS order_id\", \"title\": \"<pre>SELECT\\n  <b>\\\"jaffle_shop.main.stg_orders\\\".order_id AS order_id</b>\\nFROM (\\n  WITH source AS (\\n    SELECT\\n      raw_orders.id AS id,\\n      raw_orders.user_id AS user_id,\\n      raw_orders.order_date AS order_date,\\n      raw_orders.status AS status\\n    FROM jaffle_shop.main.raw_orders AS raw_orders\\n  ), renamed AS (\\n    SELECT\\n      source.id AS order_id,\\n      source.user_id AS customer_id,\\n      source.order_date AS order_date,\\n      source.status AS status\\n    FROM source\\n  )\\n  SELECT\\n    renamed.order_id AS order_id,\\n    renamed.customer_id AS customer_id,\\n    renamed.order_date AS order_date,\\n    renamed.status AS status\\n  FROM renamed\\n) AS \\\"jaffle_shop.main.stg_orders\\\" /* source: jaffle_shop.main.stg_orders */</pre>\", \"group\": 0}, {\"id\": 4405734576, \"label\": \"renamed.order_id AS order_id\", \"title\": \"<pre>WITH source AS (\\n  SELECT\\n    raw_orders.id AS id,\\n    raw_orders.user_id AS user_id,\\n    raw_orders.order_date AS order_date,\\n    raw_orders.status AS status\\n  FROM jaffle_shop.main.raw_orders AS raw_orders\\n), renamed AS (\\n  SELECT\\n    source.id AS order_id,\\n    source.user_id AS customer_id,\\n    source.order_date AS order_date,\\n    source.status AS status\\n  FROM source\\n)\\nSELECT\\n  <b>renamed.order_id AS order_id</b>\\nFROM renamed</pre>\", \"group\": 0}, {\"id\": 4405727904, \"label\": \"source.id AS order_id\", \"title\": \"<pre>SELECT\\n  <b>source.id AS order_id</b>\\nFROM source</pre>\", \"group\": 0}, {\"id\": 4405731648, \"label\": \"raw_orders.id AS id\", \"title\": \"<pre>SELECT\\n  <b>raw_orders.id AS id</b>\\nFROM jaffle_shop.main.raw_orders AS raw_orders</pre>\", \"group\": 0}, {\"id\": 4405723584, \"label\": \"FROM raw_orders\", \"title\": \"<pre>SELECT raw_orders.id FROM raw_orders</pre>\", \"group\": 1}])\n",
       "    nodes.forEach(row => row[\"title\"] = new DOMParser().parseFromString(row[\"title\"], \"text/html\").body.childNodes[0])\n",
       "\n",
       "    new vis.Network(\n",
       "        document.getElementById(\"sqlglot-lineage\"),\n",
       "        {\n",
       "            nodes: nodes,\n",
       "            edges: new vis.DataSet([{\"from\": 4405739136, \"to\": 4405738128}, {\"from\": 4405738128, \"to\": 4405734624}, {\"from\": 4405734624, \"to\": 4405727808}, {\"from\": 4405727808, \"to\": 4405734576}, {\"from\": 4405734576, \"to\": 4405727904}, {\"from\": 4405727904, \"to\": 4405731648}, {\"from\": 4405731648, \"to\": 4405723584}])\n",
       "        },\n",
       "        {\"height\": \"500px\", \"width\": \"100%\", \"layout\": {\"hierarchical\": {\"enabled\": true, \"nodeSpacing\": 200, \"sortMethod\": \"directed\"}}, \"interaction\": {\"dragNodes\": false, \"selectable\": false}, \"physics\": {\"enabled\": false}, \"edges\": {\"arrows\": \"to\"}, \"nodes\": {\"font\": \"20px monaco\", \"shape\": \"box\", \"widthConstraint\": {\"maximum\": 300}}},\n",
       "    )\n",
       "  </script>\n",
       "</div>"
      ],
      "text/plain": [
       "<sqlglot.lineage.LineageHTML at 0x1054f94b0>"
      ]
     },
     "execution_count": 12,
     "metadata": {},
     "output_type": "execute_result"
    }
   ],
   "source": [
    "node = lineage(\"number_of_orders\", customers, sources=sources, schema=raw_schemas, dialect=\"duckdb\")\n",
    "node.to_html()"
   ]
  },
  {
   "cell_type": "code",
   "execution_count": 13,
   "id": "d4d3f3cc-ebec-4434-b57c-ef31ab077940",
   "metadata": {},
   "outputs": [
    {
     "data": {
      "text/html": [
       "<div>\n",
       "  <div id=\"sqlglot-lineage\"></div>\n",
       "  <script type=\"text/javascript\" src=\"https://unpkg.com/vis-data@latest/peer/umd/vis-data.min.js\"></script>\n",
       "  <script type=\"text/javascript\" src=\"https://unpkg.com/vis-network@latest/peer/umd/vis-network.min.js\"></script>\n",
       "  <link rel=\"stylesheet\" type=\"text/css\" href=\"https://unpkg.com/vis-network/styles/vis-network.min.css\" />\n",
       "  <script type=\"text/javascript\">\n",
       "    var nodes = new vis.DataSet([{\"id\": 4383352016, \"label\": \"final.customer_lifetime_value AS customer_lifetime_value\", \"title\": \"<pre>WITH customers AS (\\n  SELECT\\n    \\\"jaffle_shop.main.stg_customers\\\".customer_id AS customer_id,\\n    \\\"jaffle_shop.main.stg_customers\\\".first_name AS first_name,\\n    \\\"jaffle_shop.main.stg_customers\\\".last_name AS last_name\\n  FROM (\\n    WITH source AS (\\n      SELECT\\n        raw_customers.id AS id,\\n        raw_customers.first_name AS first_name,\\n        raw_customers.last_name AS last_name\\n      FROM jaffle_shop.main.raw_customers AS raw_customers\\n    ), renamed AS (\\n      SELECT\\n        source.id AS customer_id,\\n        source.first_name AS first_name,\\n        source.last_name AS last_name\\n      FROM source\\n    )\\n    SELECT\\n      renamed.customer_id AS customer_id,\\n      renamed.first_name AS first_name,\\n      renamed.last_name AS last_name\\n    FROM renamed\\n  ) AS \\\"jaffle_shop.main.stg_customers\\\" /* source: jaffle_shop.main.stg_customers */\\n), orders AS (\\n  SELECT\\n    \\\"jaffle_shop.main.stg_orders\\\".order_id AS order_id,\\n    \\\"jaffle_shop.main.stg_orders\\\".customer_id AS customer_id,\\n    \\\"jaffle_shop.main.stg_orders\\\".order_date AS order_date,\\n    \\\"jaffle_shop.main.stg_orders\\\".status AS status\\n  FROM (\\n    WITH source AS (\\n      SELECT\\n        raw_orders.id AS id,\\n        raw_orders.user_id AS user_id,\\n        raw_orders.order_date AS order_date,\\n        raw_orders.status AS status\\n      FROM jaffle_shop.main.raw_orders AS raw_orders\\n    ), renamed AS (\\n      SELECT\\n        source.id AS order_id,\\n        source.user_id AS customer_id,\\n        source.order_date AS order_date,\\n        source.status AS status\\n      FROM source\\n    )\\n    SELECT\\n      renamed.order_id AS order_id,\\n      renamed.customer_id AS customer_id,\\n      renamed.order_date AS order_date,\\n      renamed.status AS status\\n    FROM renamed\\n  ) AS \\\"jaffle_shop.main.stg_orders\\\" /* source: jaffle_shop.main.stg_orders */\\n), payments AS (\\n  SELECT\\n    \\\"jaffle_shop.main.stg_payments\\\".payment_id AS payment_id,\\n    \\\"jaffle_shop.main.stg_payments\\\".order_id AS order_id,\\n    \\\"jaffle_shop.main.stg_payments\\\".payment_method AS payment_method,\\n    \\\"jaffle_shop.main.stg_payments\\\".amount AS amount\\n  FROM (\\n    /* */\\n    WITH source AS (\\n      SELECT\\n        raw_payments.id AS id,\\n        raw_payments.order_id AS order_id,\\n        raw_payments.payment_method AS payment_method,\\n        raw_payments.amount AS amount\\n      FROM jaffle_shop.main.raw_payments AS raw_payments\\n    ), renamed AS (\\n      SELECT\\n        source.id AS payment_id,\\n        source.order_id AS order_id,\\n        source.payment_method AS payment_method,\\n        source.amount /* `amount` is currently stored in cents, so we convert it to dollars */ / 100 AS amount\\n      FROM source\\n    ), foo AS (\\n      SELECT\\n        renamed.payment_id AS payment_id,\\n        renamed.order_id AS order_id,\\n        renamed.payment_method AS payment_method,\\n        renamed.amount AS amount,\\n        renamed.payment_id AS foobar_id\\n      FROM renamed\\n    )\\n    SELECT\\n      renamed.payment_id AS payment_id,\\n      renamed.order_id AS order_id,\\n      renamed.payment_method AS payment_method,\\n      renamed.amount AS amount\\n    FROM renamed\\n  ) AS \\\"jaffle_shop.main.stg_payments\\\" /* source: jaffle_shop.main.stg_payments */\\n), customer_orders AS (\\n  SELECT\\n    orders.customer_id AS customer_id,\\n    MIN(orders.order_date) AS first_order,\\n    MAX(orders.order_date) AS most_recent_order,\\n    COUNT(orders.order_id) AS number_of_orders\\n  FROM orders\\n  GROUP BY\\n    orders.customer_id\\n), customer_payments AS (\\n  SELECT\\n    orders.customer_id AS customer_id,\\n    SUM(payments.amount) AS total_amount\\n  FROM payments\\n  LEFT JOIN orders\\n    ON payments.order_id = orders.order_id\\n  GROUP BY\\n    orders.customer_id\\n), final AS (\\n  SELECT\\n    customers.customer_id AS customer_id,\\n    customers.first_name AS first_name,\\n    customers.last_name AS last_name,\\n    customer_orders.first_order AS first_order,\\n    customer_orders.most_recent_order AS most_recent_order,\\n    customer_orders.number_of_orders AS number_of_orders,\\n    customer_payments.total_amount AS customer_lifetime_value\\n  FROM customers\\n  LEFT JOIN customer_orders\\n    ON customers.customer_id = customer_orders.customer_id\\n  LEFT JOIN customer_payments\\n    ON customers.customer_id = customer_payments.customer_id\\n)\\nSELECT\\n  <b>final.customer_lifetime_value AS customer_lifetime_value</b>\\nFROM final</pre>\", \"group\": 0}, {\"id\": 4383345488, \"label\": \"customer_payments.total_amount AS customer_lifetime_value\", \"title\": \"<pre>SELECT\\n  <b>customer_payments.total_amount AS customer_lifetime_value</b>\\nFROM customers\\nLEFT JOIN customer_orders\\n  ON customers.customer_id = customer_orders.customer_id\\nLEFT JOIN customer_payments\\n  ON customers.customer_id = customer_payments.customer_id</pre>\", \"group\": 0}, {\"id\": 4383350432, \"label\": \"SUM(payments.amount) AS total_amount\", \"title\": \"<pre>SELECT\\n  <b>SUM(payments.amount) AS total_amount</b>\\nFROM payments\\nLEFT JOIN orders\\n  ON payments.order_id = orders.order_id\\nGROUP BY\\n  orders.customer_id</pre>\", \"group\": 0}, {\"id\": 4383346400, \"label\": \"\\\"jaffle_shop.main.stg_payments\\\".amount AS amount\", \"title\": \"<pre>SELECT\\n  <b>\\\"jaffle_shop.main.stg_payments\\\".amount AS amount</b>\\nFROM (\\n  /* */\\n  WITH source AS (\\n    SELECT\\n      raw_payments.id AS id,\\n      raw_payments.order_id AS order_id,\\n      raw_payments.payment_method AS payment_method,\\n      raw_payments.amount AS amount\\n    FROM jaffle_shop.main.raw_payments AS raw_payments\\n  ), renamed AS (\\n    SELECT\\n      source.id AS payment_id,\\n      source.order_id AS order_id,\\n      source.payment_method AS payment_method,\\n      source.amount /* `amount` is currently stored in cents, so we convert it to dollars */ / 100 AS amount\\n    FROM source\\n  ), foo AS (\\n    SELECT\\n      renamed.payment_id AS payment_id,\\n      renamed.order_id AS order_id,\\n      renamed.payment_method AS payment_method,\\n      renamed.amount AS amount,\\n      renamed.payment_id AS foobar_id\\n    FROM renamed\\n  )\\n  SELECT\\n    renamed.payment_id AS payment_id,\\n    renamed.order_id AS order_id,\\n    renamed.payment_method AS payment_method,\\n    renamed.amount AS amount\\n  FROM renamed\\n) AS \\\"jaffle_shop.main.stg_payments\\\" /* source: jaffle_shop.main.stg_payments */</pre>\", \"group\": 0}, {\"id\": 4383347888, \"label\": \"renamed.amount AS amount\", \"title\": \"<pre>/* */\\nWITH source AS (\\n  SELECT\\n    raw_payments.id AS id,\\n    raw_payments.order_id AS order_id,\\n    raw_payments.payment_method AS payment_method,\\n    raw_payments.amount AS amount\\n  FROM jaffle_shop.main.raw_payments AS raw_payments\\n), renamed AS (\\n  SELECT\\n    source.id AS payment_id,\\n    source.order_id AS order_id,\\n    source.payment_method AS payment_method,\\n    source.amount /* `amount` is currently stored in cents, so we convert it to dollars */ / 100 AS amount\\n  FROM source\\n), foo AS (\\n  SELECT\\n    renamed.payment_id AS payment_id,\\n    renamed.order_id AS order_id,\\n    renamed.payment_method AS payment_method,\\n    renamed.amount AS amount,\\n    renamed.payment_id AS foobar_id\\n  FROM renamed\\n)\\nSELECT\\n  <b>renamed.amount AS amount</b>\\nFROM renamed</pre>\", \"group\": 0}, {\"id\": 4405738944, \"label\": \"source.amount /* `amount` is currently stored in cents, so we convert it to dollars */ / 100 AS amount\", \"title\": \"<pre>SELECT\\n  <b>source.amount /* `amount` is currently stored in cents, so we convert it to dollars */ / 100 AS amount</b>\\nFROM source</pre>\", \"group\": 0}, {\"id\": 4405738992, \"label\": \"raw_payments.amount AS amount\", \"title\": \"<pre>SELECT\\n  <b>raw_payments.amount AS amount</b>\\nFROM jaffle_shop.main.raw_payments AS raw_payments</pre>\", \"group\": 0}, {\"id\": 4405737216, \"label\": \"FROM raw_payments\", \"title\": \"<pre>SELECT raw_payments.amount FROM raw_payments</pre>\", \"group\": 1}])\n",
       "    nodes.forEach(row => row[\"title\"] = new DOMParser().parseFromString(row[\"title\"], \"text/html\").body.childNodes[0])\n",
       "\n",
       "    new vis.Network(\n",
       "        document.getElementById(\"sqlglot-lineage\"),\n",
       "        {\n",
       "            nodes: nodes,\n",
       "            edges: new vis.DataSet([{\"from\": 4383352016, \"to\": 4383345488}, {\"from\": 4383345488, \"to\": 4383350432}, {\"from\": 4383350432, \"to\": 4383346400}, {\"from\": 4383346400, \"to\": 4383347888}, {\"from\": 4383347888, \"to\": 4405738944}, {\"from\": 4405738944, \"to\": 4405738992}, {\"from\": 4405738992, \"to\": 4405737216}])\n",
       "        },\n",
       "        {\"height\": \"500px\", \"width\": \"100%\", \"layout\": {\"hierarchical\": {\"enabled\": true, \"nodeSpacing\": 200, \"sortMethod\": \"directed\"}}, \"interaction\": {\"dragNodes\": false, \"selectable\": false}, \"physics\": {\"enabled\": false}, \"edges\": {\"arrows\": \"to\"}, \"nodes\": {\"font\": \"20px monaco\", \"shape\": \"box\", \"widthConstraint\": {\"maximum\": 300}}},\n",
       "    )\n",
       "  </script>\n",
       "</div>"
      ],
      "text/plain": [
       "<sqlglot.lineage.LineageHTML at 0x1069fac20>"
      ]
     },
     "execution_count": 13,
     "metadata": {},
     "output_type": "execute_result"
    }
   ],
   "source": [
    "node = lineage(\"customer_lifetime_value\", customers, sources=sources, schema=raw_schemas, dialect=\"duckdb\")\n",
    "node.to_html()"
   ]
  },
  {
   "cell_type": "code",
   "execution_count": 14,
   "id": "8fbeb979-c613-4568-956e-a96a77187f1a",
   "metadata": {},
   "outputs": [
    {
     "data": {
      "text/plain": [
       "{'raw_customers.first_name',\n",
       " 'raw_customers.id',\n",
       " 'raw_customers.last_name',\n",
       " 'raw_orders.id',\n",
       " 'raw_orders.order_date',\n",
       " 'raw_payments.amount'}"
      ]
     },
     "execution_count": 14,
     "metadata": {},
     "output_type": "execute_result"
    }
   ],
   "source": [
    "all_leaves = set()\n",
    "for col in customers_columns: \n",
    "    node = lineage(col, customers, sources=sources, schema=raw_schemas, dialect=\"duckdb\")\n",
    "    leaves = get_leaf_nodes(node)\n",
    "    for leaf in leaves:\n",
    "        all_leaves.add(leaf.name)\n",
    "\n",
    "all_leaves"
   ]
  },
  {
   "cell_type": "code",
   "execution_count": 15,
   "id": "ee54b7c4-48e3-466d-921c-133d97991571",
   "metadata": {},
   "outputs": [
    {
     "name": "stderr",
     "output_type": "stream",
     "text": [
      "\u001b[32m2023-06-12 14:05:03.293\u001b[0m | \u001b[1mINFO    \u001b[0m | \u001b[36m__main__\u001b[0m:\u001b[36m<module>\u001b[0m:\u001b[36m4\u001b[0m - \u001b[1m['order_id', 'customer_id', 'order_date', 'status', 'credit_card_amount', 'coupon_amount', 'bank_transfer_amount', 'gift_card_amount', 'amount']\u001b[0m\n"
     ]
    }
   ],
   "source": [
    "orders = sources.get(\"jaffle_shop.main.orders\")\n",
    "\n",
    "orders_columns = get_final_columns(orders)\n",
    "logger.info(orders_columns)\n"
   ]
  },
  {
   "cell_type": "code",
   "execution_count": 16,
   "id": "76ddb76d-dc32-4d9d-bde5-89fdae7186a2",
   "metadata": {},
   "outputs": [
    {
     "data": {
      "text/html": [
       "<div>\n",
       "  <div id=\"sqlglot-lineage\"></div>\n",
       "  <script type=\"text/javascript\" src=\"https://unpkg.com/vis-data@latest/peer/umd/vis-data.min.js\"></script>\n",
       "  <script type=\"text/javascript\" src=\"https://unpkg.com/vis-network@latest/peer/umd/vis-network.min.js\"></script>\n",
       "  <link rel=\"stylesheet\" type=\"text/css\" href=\"https://unpkg.com/vis-network/styles/vis-network.min.css\" />\n",
       "  <script type=\"text/javascript\">\n",
       "    var nodes = new vis.DataSet([{\"id\": 4383344384, \"label\": \"final.order_id AS order_id\", \"title\": \"<pre>WITH orders AS (\\n  SELECT\\n    \\\"jaffle_shop.main.stg_orders\\\".order_id AS order_id,\\n    \\\"jaffle_shop.main.stg_orders\\\".customer_id AS customer_id,\\n    \\\"jaffle_shop.main.stg_orders\\\".order_date AS order_date,\\n    \\\"jaffle_shop.main.stg_orders\\\".status AS status\\n  FROM (\\n    WITH source AS (\\n      SELECT\\n        raw_orders.id AS id,\\n        raw_orders.user_id AS user_id,\\n        raw_orders.order_date AS order_date,\\n        raw_orders.status AS status\\n      FROM jaffle_shop.main.raw_orders AS raw_orders\\n    ), renamed AS (\\n      SELECT\\n        source.id AS order_id,\\n        source.user_id AS customer_id,\\n        source.order_date AS order_date,\\n        source.status AS status\\n      FROM source\\n    )\\n    SELECT\\n      renamed.order_id AS order_id,\\n      renamed.customer_id AS customer_id,\\n      renamed.order_date AS order_date,\\n      renamed.status AS status\\n    FROM renamed\\n  ) AS \\\"jaffle_shop.main.stg_orders\\\" /* source: jaffle_shop.main.stg_orders */\\n), payments AS (\\n  SELECT\\n    \\\"jaffle_shop.main.stg_payments\\\".payment_id AS payment_id,\\n    \\\"jaffle_shop.main.stg_payments\\\".order_id AS order_id,\\n    \\\"jaffle_shop.main.stg_payments\\\".payment_method AS payment_method,\\n    \\\"jaffle_shop.main.stg_payments\\\".amount AS amount\\n  FROM (\\n    /* */\\n    WITH source AS (\\n      SELECT\\n        raw_payments.id AS id,\\n        raw_payments.order_id AS order_id,\\n        raw_payments.payment_method AS payment_method,\\n        raw_payments.amount AS amount\\n      FROM jaffle_shop.main.raw_payments AS raw_payments\\n    ), renamed AS (\\n      SELECT\\n        source.id AS payment_id,\\n        source.order_id AS order_id,\\n        source.payment_method AS payment_method,\\n        source.amount /* `amount` is currently stored in cents, so we convert it to dollars */ / 100 AS amount\\n      FROM source\\n    ), foo AS (\\n      SELECT\\n        renamed.payment_id AS payment_id,\\n        renamed.order_id AS order_id,\\n        renamed.payment_method AS payment_method,\\n        renamed.amount AS amount,\\n        renamed.payment_id AS foobar_id\\n      FROM renamed\\n    )\\n    SELECT\\n      renamed.payment_id AS payment_id,\\n      renamed.order_id AS order_id,\\n      renamed.payment_method AS payment_method,\\n      renamed.amount AS amount\\n    FROM renamed\\n  ) AS \\\"jaffle_shop.main.stg_payments\\\" /* source: jaffle_shop.main.stg_payments */\\n), order_payments AS (\\n  SELECT\\n    payments.order_id AS order_id,\\n    SUM(\\n      CASE WHEN payments.payment_method = 'credit_card' THEN payments.amount ELSE 0 END\\n    ) AS credit_card_amount,\\n    SUM(CASE WHEN payments.payment_method = 'coupon' THEN payments.amount ELSE 0 END) AS coupon_amount,\\n    SUM(\\n      CASE WHEN payments.payment_method = 'bank_transfer' THEN payments.amount ELSE 0 END\\n    ) AS bank_transfer_amount,\\n    SUM(CASE WHEN payments.payment_method = 'gift_card' THEN payments.amount ELSE 0 END) AS gift_card_amount,\\n    SUM(payments.amount) AS total_amount\\n  FROM payments\\n  GROUP BY\\n    payments.order_id\\n), final AS (\\n  SELECT\\n    orders.order_id AS order_id,\\n    orders.customer_id AS customer_id,\\n    orders.order_date AS order_date,\\n    orders.status AS status,\\n    order_payments.credit_card_amount AS credit_card_amount,\\n    order_payments.coupon_amount AS coupon_amount,\\n    order_payments.bank_transfer_amount AS bank_transfer_amount,\\n    order_payments.gift_card_amount AS gift_card_amount,\\n    order_payments.total_amount AS amount\\n  FROM orders\\n  LEFT JOIN order_payments\\n    ON orders.order_id = order_payments.order_id\\n)\\nSELECT\\n  <b>final.order_id AS order_id</b>\\nFROM final</pre>\", \"group\": 0}, {\"id\": 4405736592, \"label\": \"orders.order_id AS order_id\", \"title\": \"<pre>SELECT\\n  <b>orders.order_id AS order_id</b>\\nFROM orders\\nLEFT JOIN order_payments\\n  ON orders.order_id = order_payments.order_id</pre>\", \"group\": 0}, {\"id\": 4405732128, \"label\": \"\\\"jaffle_shop.main.stg_orders\\\".order_id AS order_id\", \"title\": \"<pre>SELECT\\n  <b>\\\"jaffle_shop.main.stg_orders\\\".order_id AS order_id</b>\\nFROM (\\n  WITH source AS (\\n    SELECT\\n      raw_orders.id AS id,\\n      raw_orders.user_id AS user_id,\\n      raw_orders.order_date AS order_date,\\n      raw_orders.status AS status\\n    FROM jaffle_shop.main.raw_orders AS raw_orders\\n  ), renamed AS (\\n    SELECT\\n      source.id AS order_id,\\n      source.user_id AS customer_id,\\n      source.order_date AS order_date,\\n      source.status AS status\\n    FROM source\\n  )\\n  SELECT\\n    renamed.order_id AS order_id,\\n    renamed.customer_id AS customer_id,\\n    renamed.order_date AS order_date,\\n    renamed.status AS status\\n  FROM renamed\\n) AS \\\"jaffle_shop.main.stg_orders\\\" /* source: jaffle_shop.main.stg_orders */</pre>\", \"group\": 0}, {\"id\": 4405737744, \"label\": \"renamed.order_id AS order_id\", \"title\": \"<pre>WITH source AS (\\n  SELECT\\n    raw_orders.id AS id,\\n    raw_orders.user_id AS user_id,\\n    raw_orders.order_date AS order_date,\\n    raw_orders.status AS status\\n  FROM jaffle_shop.main.raw_orders AS raw_orders\\n), renamed AS (\\n  SELECT\\n    source.id AS order_id,\\n    source.user_id AS customer_id,\\n    source.order_date AS order_date,\\n    source.status AS status\\n  FROM source\\n)\\nSELECT\\n  <b>renamed.order_id AS order_id</b>\\nFROM renamed</pre>\", \"group\": 0}, {\"id\": 4405732896, \"label\": \"source.id AS order_id\", \"title\": \"<pre>SELECT\\n  <b>source.id AS order_id</b>\\nFROM source</pre>\", \"group\": 0}, {\"id\": 4405736544, \"label\": \"raw_orders.id AS id\", \"title\": \"<pre>SELECT\\n  <b>raw_orders.id AS id</b>\\nFROM jaffle_shop.main.raw_orders AS raw_orders</pre>\", \"group\": 0}, {\"id\": 4405736448, \"label\": \"FROM raw_orders\", \"title\": \"<pre>SELECT raw_orders.id FROM raw_orders</pre>\", \"group\": 1}])\n",
       "    nodes.forEach(row => row[\"title\"] = new DOMParser().parseFromString(row[\"title\"], \"text/html\").body.childNodes[0])\n",
       "\n",
       "    new vis.Network(\n",
       "        document.getElementById(\"sqlglot-lineage\"),\n",
       "        {\n",
       "            nodes: nodes,\n",
       "            edges: new vis.DataSet([{\"from\": 4383344384, \"to\": 4405736592}, {\"from\": 4405736592, \"to\": 4405732128}, {\"from\": 4405732128, \"to\": 4405737744}, {\"from\": 4405737744, \"to\": 4405732896}, {\"from\": 4405732896, \"to\": 4405736544}, {\"from\": 4405736544, \"to\": 4405736448}])\n",
       "        },\n",
       "        {\"height\": \"500px\", \"width\": \"100%\", \"layout\": {\"hierarchical\": {\"enabled\": true, \"nodeSpacing\": 200, \"sortMethod\": \"directed\"}}, \"interaction\": {\"dragNodes\": false, \"selectable\": false}, \"physics\": {\"enabled\": false}, \"edges\": {\"arrows\": \"to\"}, \"nodes\": {\"font\": \"20px monaco\", \"shape\": \"box\", \"widthConstraint\": {\"maximum\": 300}}},\n",
       "    )\n",
       "  </script>\n",
       "</div>"
      ],
      "text/plain": [
       "<sqlglot.lineage.LineageHTML at 0x106a2baf0>"
      ]
     },
     "execution_count": 16,
     "metadata": {},
     "output_type": "execute_result"
    }
   ],
   "source": [
    "node = lineage(\"order_id\", orders, sources=sources, schema=raw_schemas, dialect=\"duckdb\")\n",
    "node.to_html()"
   ]
  },
  {
   "cell_type": "code",
   "execution_count": 17,
   "id": "d73c7f34-9572-4850-97b9-fcfd97428442",
   "metadata": {},
   "outputs": [
    {
     "data": {
      "text/html": [
       "<div>\n",
       "  <div id=\"sqlglot-lineage\"></div>\n",
       "  <script type=\"text/javascript\" src=\"https://unpkg.com/vis-data@latest/peer/umd/vis-data.min.js\"></script>\n",
       "  <script type=\"text/javascript\" src=\"https://unpkg.com/vis-network@latest/peer/umd/vis-network.min.js\"></script>\n",
       "  <link rel=\"stylesheet\" type=\"text/css\" href=\"https://unpkg.com/vis-network/styles/vis-network.min.css\" />\n",
       "  <script type=\"text/javascript\">\n",
       "    var nodes = new vis.DataSet([{\"id\": 4406294224, \"label\": \"final.customer_id AS customer_id\", \"title\": \"<pre>WITH orders AS (\\n  SELECT\\n    \\\"jaffle_shop.main.stg_orders\\\".order_id AS order_id,\\n    \\\"jaffle_shop.main.stg_orders\\\".customer_id AS customer_id,\\n    \\\"jaffle_shop.main.stg_orders\\\".order_date AS order_date,\\n    \\\"jaffle_shop.main.stg_orders\\\".status AS status\\n  FROM (\\n    WITH source AS (\\n      SELECT\\n        raw_orders.id AS id,\\n        raw_orders.user_id AS user_id,\\n        raw_orders.order_date AS order_date,\\n        raw_orders.status AS status\\n      FROM jaffle_shop.main.raw_orders AS raw_orders\\n    ), renamed AS (\\n      SELECT\\n        source.id AS order_id,\\n        source.user_id AS customer_id,\\n        source.order_date AS order_date,\\n        source.status AS status\\n      FROM source\\n    )\\n    SELECT\\n      renamed.order_id AS order_id,\\n      renamed.customer_id AS customer_id,\\n      renamed.order_date AS order_date,\\n      renamed.status AS status\\n    FROM renamed\\n  ) AS \\\"jaffle_shop.main.stg_orders\\\" /* source: jaffle_shop.main.stg_orders */\\n), payments AS (\\n  SELECT\\n    \\\"jaffle_shop.main.stg_payments\\\".payment_id AS payment_id,\\n    \\\"jaffle_shop.main.stg_payments\\\".order_id AS order_id,\\n    \\\"jaffle_shop.main.stg_payments\\\".payment_method AS payment_method,\\n    \\\"jaffle_shop.main.stg_payments\\\".amount AS amount\\n  FROM (\\n    /* */\\n    WITH source AS (\\n      SELECT\\n        raw_payments.id AS id,\\n        raw_payments.order_id AS order_id,\\n        raw_payments.payment_method AS payment_method,\\n        raw_payments.amount AS amount\\n      FROM jaffle_shop.main.raw_payments AS raw_payments\\n    ), renamed AS (\\n      SELECT\\n        source.id AS payment_id,\\n        source.order_id AS order_id,\\n        source.payment_method AS payment_method,\\n        source.amount /* `amount` is currently stored in cents, so we convert it to dollars */ / 100 AS amount\\n      FROM source\\n    ), foo AS (\\n      SELECT\\n        renamed.payment_id AS payment_id,\\n        renamed.order_id AS order_id,\\n        renamed.payment_method AS payment_method,\\n        renamed.amount AS amount,\\n        renamed.payment_id AS foobar_id\\n      FROM renamed\\n    )\\n    SELECT\\n      renamed.payment_id AS payment_id,\\n      renamed.order_id AS order_id,\\n      renamed.payment_method AS payment_method,\\n      renamed.amount AS amount\\n    FROM renamed\\n  ) AS \\\"jaffle_shop.main.stg_payments\\\" /* source: jaffle_shop.main.stg_payments */\\n), order_payments AS (\\n  SELECT\\n    payments.order_id AS order_id,\\n    SUM(\\n      CASE WHEN payments.payment_method = 'credit_card' THEN payments.amount ELSE 0 END\\n    ) AS credit_card_amount,\\n    SUM(CASE WHEN payments.payment_method = 'coupon' THEN payments.amount ELSE 0 END) AS coupon_amount,\\n    SUM(\\n      CASE WHEN payments.payment_method = 'bank_transfer' THEN payments.amount ELSE 0 END\\n    ) AS bank_transfer_amount,\\n    SUM(CASE WHEN payments.payment_method = 'gift_card' THEN payments.amount ELSE 0 END) AS gift_card_amount,\\n    SUM(payments.amount) AS total_amount\\n  FROM payments\\n  GROUP BY\\n    payments.order_id\\n), final AS (\\n  SELECT\\n    orders.order_id AS order_id,\\n    orders.customer_id AS customer_id,\\n    orders.order_date AS order_date,\\n    orders.status AS status,\\n    order_payments.credit_card_amount AS credit_card_amount,\\n    order_payments.coupon_amount AS coupon_amount,\\n    order_payments.bank_transfer_amount AS bank_transfer_amount,\\n    order_payments.gift_card_amount AS gift_card_amount,\\n    order_payments.total_amount AS amount\\n  FROM orders\\n  LEFT JOIN order_payments\\n    ON orders.order_id = order_payments.order_id\\n)\\nSELECT\\n  <b>final.customer_id AS customer_id</b>\\nFROM final</pre>\", \"group\": 0}, {\"id\": 4405724112, \"label\": \"orders.customer_id AS customer_id\", \"title\": \"<pre>SELECT\\n  <b>orders.customer_id AS customer_id</b>\\nFROM orders\\nLEFT JOIN order_payments\\n  ON orders.order_id = order_payments.order_id</pre>\", \"group\": 0}, {\"id\": 4405737504, \"label\": \"\\\"jaffle_shop.main.stg_orders\\\".customer_id AS customer_id\", \"title\": \"<pre>SELECT\\n  <b>\\\"jaffle_shop.main.stg_orders\\\".customer_id AS customer_id</b>\\nFROM (\\n  WITH source AS (\\n    SELECT\\n      raw_orders.id AS id,\\n      raw_orders.user_id AS user_id,\\n      raw_orders.order_date AS order_date,\\n      raw_orders.status AS status\\n    FROM jaffle_shop.main.raw_orders AS raw_orders\\n  ), renamed AS (\\n    SELECT\\n      source.id AS order_id,\\n      source.user_id AS customer_id,\\n      source.order_date AS order_date,\\n      source.status AS status\\n    FROM source\\n  )\\n  SELECT\\n    renamed.order_id AS order_id,\\n    renamed.customer_id AS customer_id,\\n    renamed.order_date AS order_date,\\n    renamed.status AS status\\n  FROM renamed\\n) AS \\\"jaffle_shop.main.stg_orders\\\" /* source: jaffle_shop.main.stg_orders */</pre>\", \"group\": 0}, {\"id\": 4405723968, \"label\": \"renamed.customer_id AS customer_id\", \"title\": \"<pre>WITH source AS (\\n  SELECT\\n    raw_orders.id AS id,\\n    raw_orders.user_id AS user_id,\\n    raw_orders.order_date AS order_date,\\n    raw_orders.status AS status\\n  FROM jaffle_shop.main.raw_orders AS raw_orders\\n), renamed AS (\\n  SELECT\\n    source.id AS order_id,\\n    source.user_id AS customer_id,\\n    source.order_date AS order_date,\\n    source.status AS status\\n  FROM source\\n)\\nSELECT\\n  <b>renamed.customer_id AS customer_id</b>\\nFROM renamed</pre>\", \"group\": 0}, {\"id\": 4405731216, \"label\": \"source.user_id AS customer_id\", \"title\": \"<pre>SELECT\\n  <b>source.user_id AS customer_id</b>\\nFROM source</pre>\", \"group\": 0}, {\"id\": 4405730928, \"label\": \"raw_orders.user_id AS user_id\", \"title\": \"<pre>SELECT\\n  <b>raw_orders.user_id AS user_id</b>\\nFROM jaffle_shop.main.raw_orders AS raw_orders</pre>\", \"group\": 0}, {\"id\": 4405732032, \"label\": \"FROM raw_orders\", \"title\": \"<pre>SELECT raw_orders.user_id FROM raw_orders</pre>\", \"group\": 1}])\n",
       "    nodes.forEach(row => row[\"title\"] = new DOMParser().parseFromString(row[\"title\"], \"text/html\").body.childNodes[0])\n",
       "\n",
       "    new vis.Network(\n",
       "        document.getElementById(\"sqlglot-lineage\"),\n",
       "        {\n",
       "            nodes: nodes,\n",
       "            edges: new vis.DataSet([{\"from\": 4406294224, \"to\": 4405724112}, {\"from\": 4405724112, \"to\": 4405737504}, {\"from\": 4405737504, \"to\": 4405723968}, {\"from\": 4405723968, \"to\": 4405731216}, {\"from\": 4405731216, \"to\": 4405730928}, {\"from\": 4405730928, \"to\": 4405732032}])\n",
       "        },\n",
       "        {\"height\": \"500px\", \"width\": \"100%\", \"layout\": {\"hierarchical\": {\"enabled\": true, \"nodeSpacing\": 200, \"sortMethod\": \"directed\"}}, \"interaction\": {\"dragNodes\": false, \"selectable\": false}, \"physics\": {\"enabled\": false}, \"edges\": {\"arrows\": \"to\"}, \"nodes\": {\"font\": \"20px monaco\", \"shape\": \"box\", \"widthConstraint\": {\"maximum\": 300}}},\n",
       "    )\n",
       "  </script>\n",
       "</div>"
      ],
      "text/plain": [
       "<sqlglot.lineage.LineageHTML at 0x1069a1600>"
      ]
     },
     "execution_count": 17,
     "metadata": {},
     "output_type": "execute_result"
    }
   ],
   "source": [
    "node = lineage(\"customer_id\", orders, sources=sources, schema=raw_schemas, dialect=\"duckdb\")\n",
    "node.to_html()"
   ]
  },
  {
   "cell_type": "code",
   "execution_count": 18,
   "id": "5582f57f-5f70-4c5b-861f-c2b75fad890b",
   "metadata": {},
   "outputs": [
    {
     "data": {
      "text/html": [
       "<div>\n",
       "  <div id=\"sqlglot-lineage\"></div>\n",
       "  <script type=\"text/javascript\" src=\"https://unpkg.com/vis-data@latest/peer/umd/vis-data.min.js\"></script>\n",
       "  <script type=\"text/javascript\" src=\"https://unpkg.com/vis-network@latest/peer/umd/vis-network.min.js\"></script>\n",
       "  <link rel=\"stylesheet\" type=\"text/css\" href=\"https://unpkg.com/vis-network/styles/vis-network.min.css\" />\n",
       "  <script type=\"text/javascript\">\n",
       "    var nodes = new vis.DataSet([{\"id\": 4406173392, \"label\": \"final.order_date AS order_date\", \"title\": \"<pre>WITH orders AS (\\n  SELECT\\n    \\\"jaffle_shop.main.stg_orders\\\".order_id AS order_id,\\n    \\\"jaffle_shop.main.stg_orders\\\".customer_id AS customer_id,\\n    \\\"jaffle_shop.main.stg_orders\\\".order_date AS order_date,\\n    \\\"jaffle_shop.main.stg_orders\\\".status AS status\\n  FROM (\\n    WITH source AS (\\n      SELECT\\n        raw_orders.id AS id,\\n        raw_orders.user_id AS user_id,\\n        raw_orders.order_date AS order_date,\\n        raw_orders.status AS status\\n      FROM jaffle_shop.main.raw_orders AS raw_orders\\n    ), renamed AS (\\n      SELECT\\n        source.id AS order_id,\\n        source.user_id AS customer_id,\\n        source.order_date AS order_date,\\n        source.status AS status\\n      FROM source\\n    )\\n    SELECT\\n      renamed.order_id AS order_id,\\n      renamed.customer_id AS customer_id,\\n      renamed.order_date AS order_date,\\n      renamed.status AS status\\n    FROM renamed\\n  ) AS \\\"jaffle_shop.main.stg_orders\\\" /* source: jaffle_shop.main.stg_orders */\\n), payments AS (\\n  SELECT\\n    \\\"jaffle_shop.main.stg_payments\\\".payment_id AS payment_id,\\n    \\\"jaffle_shop.main.stg_payments\\\".order_id AS order_id,\\n    \\\"jaffle_shop.main.stg_payments\\\".payment_method AS payment_method,\\n    \\\"jaffle_shop.main.stg_payments\\\".amount AS amount\\n  FROM (\\n    /* */\\n    WITH source AS (\\n      SELECT\\n        raw_payments.id AS id,\\n        raw_payments.order_id AS order_id,\\n        raw_payments.payment_method AS payment_method,\\n        raw_payments.amount AS amount\\n      FROM jaffle_shop.main.raw_payments AS raw_payments\\n    ), renamed AS (\\n      SELECT\\n        source.id AS payment_id,\\n        source.order_id AS order_id,\\n        source.payment_method AS payment_method,\\n        source.amount /* `amount` is currently stored in cents, so we convert it to dollars */ / 100 AS amount\\n      FROM source\\n    ), foo AS (\\n      SELECT\\n        renamed.payment_id AS payment_id,\\n        renamed.order_id AS order_id,\\n        renamed.payment_method AS payment_method,\\n        renamed.amount AS amount,\\n        renamed.payment_id AS foobar_id\\n      FROM renamed\\n    )\\n    SELECT\\n      renamed.payment_id AS payment_id,\\n      renamed.order_id AS order_id,\\n      renamed.payment_method AS payment_method,\\n      renamed.amount AS amount\\n    FROM renamed\\n  ) AS \\\"jaffle_shop.main.stg_payments\\\" /* source: jaffle_shop.main.stg_payments */\\n), order_payments AS (\\n  SELECT\\n    payments.order_id AS order_id,\\n    SUM(\\n      CASE WHEN payments.payment_method = 'credit_card' THEN payments.amount ELSE 0 END\\n    ) AS credit_card_amount,\\n    SUM(CASE WHEN payments.payment_method = 'coupon' THEN payments.amount ELSE 0 END) AS coupon_amount,\\n    SUM(\\n      CASE WHEN payments.payment_method = 'bank_transfer' THEN payments.amount ELSE 0 END\\n    ) AS bank_transfer_amount,\\n    SUM(CASE WHEN payments.payment_method = 'gift_card' THEN payments.amount ELSE 0 END) AS gift_card_amount,\\n    SUM(payments.amount) AS total_amount\\n  FROM payments\\n  GROUP BY\\n    payments.order_id\\n), final AS (\\n  SELECT\\n    orders.order_id AS order_id,\\n    orders.customer_id AS customer_id,\\n    orders.order_date AS order_date,\\n    orders.status AS status,\\n    order_payments.credit_card_amount AS credit_card_amount,\\n    order_payments.coupon_amount AS coupon_amount,\\n    order_payments.bank_transfer_amount AS bank_transfer_amount,\\n    order_payments.gift_card_amount AS gift_card_amount,\\n    order_payments.total_amount AS amount\\n  FROM orders\\n  LEFT JOIN order_payments\\n    ON orders.order_id = order_payments.order_id\\n)\\nSELECT\\n  <b>final.order_date AS order_date</b>\\nFROM final</pre>\", \"group\": 0}, {\"id\": 4406283856, \"label\": \"orders.order_date AS order_date\", \"title\": \"<pre>SELECT\\n  <b>orders.order_date AS order_date</b>\\nFROM orders\\nLEFT JOIN order_payments\\n  ON orders.order_id = order_payments.order_id</pre>\", \"group\": 0}, {\"id\": 4406095264, \"label\": \"\\\"jaffle_shop.main.stg_orders\\\".order_date AS order_date\", \"title\": \"<pre>SELECT\\n  <b>\\\"jaffle_shop.main.stg_orders\\\".order_date AS order_date</b>\\nFROM (\\n  WITH source AS (\\n    SELECT\\n      raw_orders.id AS id,\\n      raw_orders.user_id AS user_id,\\n      raw_orders.order_date AS order_date,\\n      raw_orders.status AS status\\n    FROM jaffle_shop.main.raw_orders AS raw_orders\\n  ), renamed AS (\\n    SELECT\\n      source.id AS order_id,\\n      source.user_id AS customer_id,\\n      source.order_date AS order_date,\\n      source.status AS status\\n    FROM source\\n  )\\n  SELECT\\n    renamed.order_id AS order_id,\\n    renamed.customer_id AS customer_id,\\n    renamed.order_date AS order_date,\\n    renamed.status AS status\\n  FROM renamed\\n) AS \\\"jaffle_shop.main.stg_orders\\\" /* source: jaffle_shop.main.stg_orders */</pre>\", \"group\": 0}, {\"id\": 4406091424, \"label\": \"renamed.order_date AS order_date\", \"title\": \"<pre>WITH source AS (\\n  SELECT\\n    raw_orders.id AS id,\\n    raw_orders.user_id AS user_id,\\n    raw_orders.order_date AS order_date,\\n    raw_orders.status AS status\\n  FROM jaffle_shop.main.raw_orders AS raw_orders\\n), renamed AS (\\n  SELECT\\n    source.id AS order_id,\\n    source.user_id AS customer_id,\\n    source.order_date AS order_date,\\n    source.status AS status\\n  FROM source\\n)\\nSELECT\\n  <b>renamed.order_date AS order_date</b>\\nFROM renamed</pre>\", \"group\": 0}, {\"id\": 4384264192, \"label\": \"source.order_date AS order_date\", \"title\": \"<pre>SELECT\\n  <b>source.order_date AS order_date</b>\\nFROM source</pre>\", \"group\": 0}, {\"id\": 4406095984, \"label\": \"raw_orders.order_date AS order_date\", \"title\": \"<pre>SELECT\\n  <b>raw_orders.order_date AS order_date</b>\\nFROM jaffle_shop.main.raw_orders AS raw_orders</pre>\", \"group\": 0}, {\"id\": 4383351776, \"label\": \"FROM raw_orders\", \"title\": \"<pre>SELECT raw_orders.order_date FROM raw_orders</pre>\", \"group\": 1}])\n",
       "    nodes.forEach(row => row[\"title\"] = new DOMParser().parseFromString(row[\"title\"], \"text/html\").body.childNodes[0])\n",
       "\n",
       "    new vis.Network(\n",
       "        document.getElementById(\"sqlglot-lineage\"),\n",
       "        {\n",
       "            nodes: nodes,\n",
       "            edges: new vis.DataSet([{\"from\": 4406173392, \"to\": 4406283856}, {\"from\": 4406283856, \"to\": 4406095264}, {\"from\": 4406095264, \"to\": 4406091424}, {\"from\": 4406091424, \"to\": 4384264192}, {\"from\": 4384264192, \"to\": 4406095984}, {\"from\": 4406095984, \"to\": 4383351776}])\n",
       "        },\n",
       "        {\"height\": \"500px\", \"width\": \"100%\", \"layout\": {\"hierarchical\": {\"enabled\": true, \"nodeSpacing\": 200, \"sortMethod\": \"directed\"}}, \"interaction\": {\"dragNodes\": false, \"selectable\": false}, \"physics\": {\"enabled\": false}, \"edges\": {\"arrows\": \"to\"}, \"nodes\": {\"font\": \"20px monaco\", \"shape\": \"box\", \"widthConstraint\": {\"maximum\": 300}}},\n",
       "    )\n",
       "  </script>\n",
       "</div>"
      ],
      "text/plain": [
       "<sqlglot.lineage.LineageHTML at 0x106a2b790>"
      ]
     },
     "execution_count": 18,
     "metadata": {},
     "output_type": "execute_result"
    }
   ],
   "source": [
    "node = lineage(\"order_date\", orders, sources=sources, schema=raw_schemas, dialect=\"duckdb\")\n",
    "node.to_html()"
   ]
  },
  {
   "cell_type": "code",
   "execution_count": 19,
   "id": "cda75c79-fd9c-49b5-aff6-c95170105f76",
   "metadata": {},
   "outputs": [
    {
     "data": {
      "text/html": [
       "<div>\n",
       "  <div id=\"sqlglot-lineage\"></div>\n",
       "  <script type=\"text/javascript\" src=\"https://unpkg.com/vis-data@latest/peer/umd/vis-data.min.js\"></script>\n",
       "  <script type=\"text/javascript\" src=\"https://unpkg.com/vis-network@latest/peer/umd/vis-network.min.js\"></script>\n",
       "  <link rel=\"stylesheet\" type=\"text/css\" href=\"https://unpkg.com/vis-network/styles/vis-network.min.css\" />\n",
       "  <script type=\"text/javascript\">\n",
       "    var nodes = new vis.DataSet([{\"id\": 4405735680, \"label\": \"final.status AS status\", \"title\": \"<pre>WITH orders AS (\\n  SELECT\\n    \\\"jaffle_shop.main.stg_orders\\\".order_id AS order_id,\\n    \\\"jaffle_shop.main.stg_orders\\\".customer_id AS customer_id,\\n    \\\"jaffle_shop.main.stg_orders\\\".order_date AS order_date,\\n    \\\"jaffle_shop.main.stg_orders\\\".status AS status\\n  FROM (\\n    WITH source AS (\\n      SELECT\\n        raw_orders.id AS id,\\n        raw_orders.user_id AS user_id,\\n        raw_orders.order_date AS order_date,\\n        raw_orders.status AS status\\n      FROM jaffle_shop.main.raw_orders AS raw_orders\\n    ), renamed AS (\\n      SELECT\\n        source.id AS order_id,\\n        source.user_id AS customer_id,\\n        source.order_date AS order_date,\\n        source.status AS status\\n      FROM source\\n    )\\n    SELECT\\n      renamed.order_id AS order_id,\\n      renamed.customer_id AS customer_id,\\n      renamed.order_date AS order_date,\\n      renamed.status AS status\\n    FROM renamed\\n  ) AS \\\"jaffle_shop.main.stg_orders\\\" /* source: jaffle_shop.main.stg_orders */\\n), payments AS (\\n  SELECT\\n    \\\"jaffle_shop.main.stg_payments\\\".payment_id AS payment_id,\\n    \\\"jaffle_shop.main.stg_payments\\\".order_id AS order_id,\\n    \\\"jaffle_shop.main.stg_payments\\\".payment_method AS payment_method,\\n    \\\"jaffle_shop.main.stg_payments\\\".amount AS amount\\n  FROM (\\n    /* */\\n    WITH source AS (\\n      SELECT\\n        raw_payments.id AS id,\\n        raw_payments.order_id AS order_id,\\n        raw_payments.payment_method AS payment_method,\\n        raw_payments.amount AS amount\\n      FROM jaffle_shop.main.raw_payments AS raw_payments\\n    ), renamed AS (\\n      SELECT\\n        source.id AS payment_id,\\n        source.order_id AS order_id,\\n        source.payment_method AS payment_method,\\n        source.amount /* `amount` is currently stored in cents, so we convert it to dollars */ / 100 AS amount\\n      FROM source\\n    ), foo AS (\\n      SELECT\\n        renamed.payment_id AS payment_id,\\n        renamed.order_id AS order_id,\\n        renamed.payment_method AS payment_method,\\n        renamed.amount AS amount,\\n        renamed.payment_id AS foobar_id\\n      FROM renamed\\n    )\\n    SELECT\\n      renamed.payment_id AS payment_id,\\n      renamed.order_id AS order_id,\\n      renamed.payment_method AS payment_method,\\n      renamed.amount AS amount\\n    FROM renamed\\n  ) AS \\\"jaffle_shop.main.stg_payments\\\" /* source: jaffle_shop.main.stg_payments */\\n), order_payments AS (\\n  SELECT\\n    payments.order_id AS order_id,\\n    SUM(\\n      CASE WHEN payments.payment_method = 'credit_card' THEN payments.amount ELSE 0 END\\n    ) AS credit_card_amount,\\n    SUM(CASE WHEN payments.payment_method = 'coupon' THEN payments.amount ELSE 0 END) AS coupon_amount,\\n    SUM(\\n      CASE WHEN payments.payment_method = 'bank_transfer' THEN payments.amount ELSE 0 END\\n    ) AS bank_transfer_amount,\\n    SUM(CASE WHEN payments.payment_method = 'gift_card' THEN payments.amount ELSE 0 END) AS gift_card_amount,\\n    SUM(payments.amount) AS total_amount\\n  FROM payments\\n  GROUP BY\\n    payments.order_id\\n), final AS (\\n  SELECT\\n    orders.order_id AS order_id,\\n    orders.customer_id AS customer_id,\\n    orders.order_date AS order_date,\\n    orders.status AS status,\\n    order_payments.credit_card_amount AS credit_card_amount,\\n    order_payments.coupon_amount AS coupon_amount,\\n    order_payments.bank_transfer_amount AS bank_transfer_amount,\\n    order_payments.gift_card_amount AS gift_card_amount,\\n    order_payments.total_amount AS amount\\n  FROM orders\\n  LEFT JOIN order_payments\\n    ON orders.order_id = order_payments.order_id\\n)\\nSELECT\\n  <b>final.status AS status</b>\\nFROM final</pre>\", \"group\": 0}, {\"id\": 4405733904, \"label\": \"orders.status AS status\", \"title\": \"<pre>SELECT\\n  <b>orders.status AS status</b>\\nFROM orders\\nLEFT JOIN order_payments\\n  ON orders.order_id = order_payments.order_id</pre>\", \"group\": 0}, {\"id\": 4405735344, \"label\": \"\\\"jaffle_shop.main.stg_orders\\\".status AS status\", \"title\": \"<pre>SELECT\\n  <b>\\\"jaffle_shop.main.stg_orders\\\".status AS status</b>\\nFROM (\\n  WITH source AS (\\n    SELECT\\n      raw_orders.id AS id,\\n      raw_orders.user_id AS user_id,\\n      raw_orders.order_date AS order_date,\\n      raw_orders.status AS status\\n    FROM jaffle_shop.main.raw_orders AS raw_orders\\n  ), renamed AS (\\n    SELECT\\n      source.id AS order_id,\\n      source.user_id AS customer_id,\\n      source.order_date AS order_date,\\n      source.status AS status\\n    FROM source\\n  )\\n  SELECT\\n    renamed.order_id AS order_id,\\n    renamed.customer_id AS customer_id,\\n    renamed.order_date AS order_date,\\n    renamed.status AS status\\n  FROM renamed\\n) AS \\\"jaffle_shop.main.stg_orders\\\" /* source: jaffle_shop.main.stg_orders */</pre>\", \"group\": 0}, {\"id\": 4405736016, \"label\": \"renamed.status AS status\", \"title\": \"<pre>WITH source AS (\\n  SELECT\\n    raw_orders.id AS id,\\n    raw_orders.user_id AS user_id,\\n    raw_orders.order_date AS order_date,\\n    raw_orders.status AS status\\n  FROM jaffle_shop.main.raw_orders AS raw_orders\\n), renamed AS (\\n  SELECT\\n    source.id AS order_id,\\n    source.user_id AS customer_id,\\n    source.order_date AS order_date,\\n    source.status AS status\\n  FROM source\\n)\\nSELECT\\n  <b>renamed.status AS status</b>\\nFROM renamed</pre>\", \"group\": 0}, {\"id\": 4405735872, \"label\": \"source.status AS status\", \"title\": \"<pre>SELECT\\n  <b>source.status AS status</b>\\nFROM source</pre>\", \"group\": 0}, {\"id\": 4405734768, \"label\": \"raw_orders.status AS status\", \"title\": \"<pre>SELECT\\n  <b>raw_orders.status AS status</b>\\nFROM jaffle_shop.main.raw_orders AS raw_orders</pre>\", \"group\": 0}, {\"id\": 4405738704, \"label\": \"FROM raw_orders\", \"title\": \"<pre>SELECT raw_orders.status FROM raw_orders</pre>\", \"group\": 1}])\n",
       "    nodes.forEach(row => row[\"title\"] = new DOMParser().parseFromString(row[\"title\"], \"text/html\").body.childNodes[0])\n",
       "\n",
       "    new vis.Network(\n",
       "        document.getElementById(\"sqlglot-lineage\"),\n",
       "        {\n",
       "            nodes: nodes,\n",
       "            edges: new vis.DataSet([{\"from\": 4405735680, \"to\": 4405733904}, {\"from\": 4405733904, \"to\": 4405735344}, {\"from\": 4405735344, \"to\": 4405736016}, {\"from\": 4405736016, \"to\": 4405735872}, {\"from\": 4405735872, \"to\": 4405734768}, {\"from\": 4405734768, \"to\": 4405738704}])\n",
       "        },\n",
       "        {\"height\": \"500px\", \"width\": \"100%\", \"layout\": {\"hierarchical\": {\"enabled\": true, \"nodeSpacing\": 200, \"sortMethod\": \"directed\"}}, \"interaction\": {\"dragNodes\": false, \"selectable\": false}, \"physics\": {\"enabled\": false}, \"edges\": {\"arrows\": \"to\"}, \"nodes\": {\"font\": \"20px monaco\", \"shape\": \"box\", \"widthConstraint\": {\"maximum\": 300}}},\n",
       "    )\n",
       "  </script>\n",
       "</div>"
      ],
      "text/plain": [
       "<sqlglot.lineage.LineageHTML at 0x1069a3be0>"
      ]
     },
     "execution_count": 19,
     "metadata": {},
     "output_type": "execute_result"
    }
   ],
   "source": [
    "node = lineage(\"status\", orders, sources=sources, schema=raw_schemas, dialect=\"duckdb\")\n",
    "node.to_html()"
   ]
  },
  {
   "cell_type": "code",
   "execution_count": 20,
   "id": "916fb9ed-c779-4eaa-938a-e0b6b67f1d77",
   "metadata": {},
   "outputs": [
    {
     "data": {
      "text/html": [
       "<div>\n",
       "  <div id=\"sqlglot-lineage\"></div>\n",
       "  <script type=\"text/javascript\" src=\"https://unpkg.com/vis-data@latest/peer/umd/vis-data.min.js\"></script>\n",
       "  <script type=\"text/javascript\" src=\"https://unpkg.com/vis-network@latest/peer/umd/vis-network.min.js\"></script>\n",
       "  <link rel=\"stylesheet\" type=\"text/css\" href=\"https://unpkg.com/vis-network/styles/vis-network.min.css\" />\n",
       "  <script type=\"text/javascript\">\n",
       "    var nodes = new vis.DataSet([{\"id\": 4406173200, \"label\": \"final.credit_card_amount AS credit_card_amount\", \"title\": \"<pre>WITH orders AS (\\n  SELECT\\n    \\\"jaffle_shop.main.stg_orders\\\".order_id AS order_id,\\n    \\\"jaffle_shop.main.stg_orders\\\".customer_id AS customer_id,\\n    \\\"jaffle_shop.main.stg_orders\\\".order_date AS order_date,\\n    \\\"jaffle_shop.main.stg_orders\\\".status AS status\\n  FROM (\\n    WITH source AS (\\n      SELECT\\n        raw_orders.id AS id,\\n        raw_orders.user_id AS user_id,\\n        raw_orders.order_date AS order_date,\\n        raw_orders.status AS status\\n      FROM jaffle_shop.main.raw_orders AS raw_orders\\n    ), renamed AS (\\n      SELECT\\n        source.id AS order_id,\\n        source.user_id AS customer_id,\\n        source.order_date AS order_date,\\n        source.status AS status\\n      FROM source\\n    )\\n    SELECT\\n      renamed.order_id AS order_id,\\n      renamed.customer_id AS customer_id,\\n      renamed.order_date AS order_date,\\n      renamed.status AS status\\n    FROM renamed\\n  ) AS \\\"jaffle_shop.main.stg_orders\\\" /* source: jaffle_shop.main.stg_orders */\\n), payments AS (\\n  SELECT\\n    \\\"jaffle_shop.main.stg_payments\\\".payment_id AS payment_id,\\n    \\\"jaffle_shop.main.stg_payments\\\".order_id AS order_id,\\n    \\\"jaffle_shop.main.stg_payments\\\".payment_method AS payment_method,\\n    \\\"jaffle_shop.main.stg_payments\\\".amount AS amount\\n  FROM (\\n    /* */\\n    WITH source AS (\\n      SELECT\\n        raw_payments.id AS id,\\n        raw_payments.order_id AS order_id,\\n        raw_payments.payment_method AS payment_method,\\n        raw_payments.amount AS amount\\n      FROM jaffle_shop.main.raw_payments AS raw_payments\\n    ), renamed AS (\\n      SELECT\\n        source.id AS payment_id,\\n        source.order_id AS order_id,\\n        source.payment_method AS payment_method,\\n        source.amount /* `amount` is currently stored in cents, so we convert it to dollars */ / 100 AS amount\\n      FROM source\\n    ), foo AS (\\n      SELECT\\n        renamed.payment_id AS payment_id,\\n        renamed.order_id AS order_id,\\n        renamed.payment_method AS payment_method,\\n        renamed.amount AS amount,\\n        renamed.payment_id AS foobar_id\\n      FROM renamed\\n    )\\n    SELECT\\n      renamed.payment_id AS payment_id,\\n      renamed.order_id AS order_id,\\n      renamed.payment_method AS payment_method,\\n      renamed.amount AS amount\\n    FROM renamed\\n  ) AS \\\"jaffle_shop.main.stg_payments\\\" /* source: jaffle_shop.main.stg_payments */\\n), order_payments AS (\\n  SELECT\\n    payments.order_id AS order_id,\\n    SUM(\\n      CASE WHEN payments.payment_method = 'credit_card' THEN payments.amount ELSE 0 END\\n    ) AS credit_card_amount,\\n    SUM(CASE WHEN payments.payment_method = 'coupon' THEN payments.amount ELSE 0 END) AS coupon_amount,\\n    SUM(\\n      CASE WHEN payments.payment_method = 'bank_transfer' THEN payments.amount ELSE 0 END\\n    ) AS bank_transfer_amount,\\n    SUM(CASE WHEN payments.payment_method = 'gift_card' THEN payments.amount ELSE 0 END) AS gift_card_amount,\\n    SUM(payments.amount) AS total_amount\\n  FROM payments\\n  GROUP BY\\n    payments.order_id\\n), final AS (\\n  SELECT\\n    orders.order_id AS order_id,\\n    orders.customer_id AS customer_id,\\n    orders.order_date AS order_date,\\n    orders.status AS status,\\n    order_payments.credit_card_amount AS credit_card_amount,\\n    order_payments.coupon_amount AS coupon_amount,\\n    order_payments.bank_transfer_amount AS bank_transfer_amount,\\n    order_payments.gift_card_amount AS gift_card_amount,\\n    order_payments.total_amount AS amount\\n  FROM orders\\n  LEFT JOIN order_payments\\n    ON orders.order_id = order_payments.order_id\\n)\\nSELECT\\n  <b>final.credit_card_amount AS credit_card_amount</b>\\nFROM final</pre>\", \"group\": 0}, {\"id\": 4406295232, \"label\": \"order_payments.credit_card_amount AS credit_card_amount\", \"title\": \"<pre>SELECT\\n  <b>order_payments.credit_card_amount AS credit_card_amount</b>\\nFROM orders\\nLEFT JOIN order_payments\\n  ON orders.order_id = order_payments.order_id</pre>\", \"group\": 0}, {\"id\": 4406092432, \"label\": \"SUM(\\n  CASE WHEN payments.payment_method = 'credit_card' THEN payments.amount ELSE 0 END\\n) AS credit_card_amount\", \"title\": \"<pre>SELECT\\n  <b>SUM(\\n    CASE WHEN payments.payment_method = 'credit_card' THEN payments.amount ELSE 0 END\\n  ) AS credit_card_amount</b>\\nFROM payments\\nGROUP BY\\n  payments.order_id</pre>\", \"group\": 0}, {\"id\": 4406089216, \"label\": \"\\\"jaffle_shop.main.stg_payments\\\".amount AS amount\", \"title\": \"<pre>SELECT\\n  <b>\\\"jaffle_shop.main.stg_payments\\\".amount AS amount</b>\\nFROM (\\n  /* */\\n  WITH source AS (\\n    SELECT\\n      raw_payments.id AS id,\\n      raw_payments.order_id AS order_id,\\n      raw_payments.payment_method AS payment_method,\\n      raw_payments.amount AS amount\\n    FROM jaffle_shop.main.raw_payments AS raw_payments\\n  ), renamed AS (\\n    SELECT\\n      source.id AS payment_id,\\n      source.order_id AS order_id,\\n      source.payment_method AS payment_method,\\n      source.amount /* `amount` is currently stored in cents, so we convert it to dollars */ / 100 AS amount\\n    FROM source\\n  ), foo AS (\\n    SELECT\\n      renamed.payment_id AS payment_id,\\n      renamed.order_id AS order_id,\\n      renamed.payment_method AS payment_method,\\n      renamed.amount AS amount,\\n      renamed.payment_id AS foobar_id\\n    FROM renamed\\n  )\\n  SELECT\\n    renamed.payment_id AS payment_id,\\n    renamed.order_id AS order_id,\\n    renamed.payment_method AS payment_method,\\n    renamed.amount AS amount\\n  FROM renamed\\n) AS \\\"jaffle_shop.main.stg_payments\\\" /* source: jaffle_shop.main.stg_payments */</pre>\", \"group\": 0}, {\"id\": 4405727232, \"label\": \"renamed.amount AS amount\", \"title\": \"<pre>/* */\\nWITH source AS (\\n  SELECT\\n    raw_payments.id AS id,\\n    raw_payments.order_id AS order_id,\\n    raw_payments.payment_method AS payment_method,\\n    raw_payments.amount AS amount\\n  FROM jaffle_shop.main.raw_payments AS raw_payments\\n), renamed AS (\\n  SELECT\\n    source.id AS payment_id,\\n    source.order_id AS order_id,\\n    source.payment_method AS payment_method,\\n    source.amount /* `amount` is currently stored in cents, so we convert it to dollars */ / 100 AS amount\\n  FROM source\\n), foo AS (\\n  SELECT\\n    renamed.payment_id AS payment_id,\\n    renamed.order_id AS order_id,\\n    renamed.payment_method AS payment_method,\\n    renamed.amount AS amount,\\n    renamed.payment_id AS foobar_id\\n  FROM renamed\\n)\\nSELECT\\n  <b>renamed.amount AS amount</b>\\nFROM renamed</pre>\", \"group\": 0}, {\"id\": 4405731072, \"label\": \"source.amount /* `amount` is currently stored in cents, so we convert it to dollars */ / 100 AS amount\", \"title\": \"<pre>SELECT\\n  <b>source.amount /* `amount` is currently stored in cents, so we convert it to dollars */ / 100 AS amount</b>\\nFROM source</pre>\", \"group\": 0}, {\"id\": 4405728720, \"label\": \"raw_payments.amount AS amount\", \"title\": \"<pre>SELECT\\n  <b>raw_payments.amount AS amount</b>\\nFROM jaffle_shop.main.raw_payments AS raw_payments</pre>\", \"group\": 0}, {\"id\": 4405723296, \"label\": \"FROM raw_payments\", \"title\": \"<pre>SELECT raw_payments.amount FROM raw_payments</pre>\", \"group\": 1}, {\"id\": 4406093968, \"label\": \"\\\"jaffle_shop.main.stg_payments\\\".payment_method AS payment_method\", \"title\": \"<pre>SELECT\\n  <b>\\\"jaffle_shop.main.stg_payments\\\".payment_method AS payment_method</b>\\nFROM (\\n  /* */\\n  WITH source AS (\\n    SELECT\\n      raw_payments.id AS id,\\n      raw_payments.order_id AS order_id,\\n      raw_payments.payment_method AS payment_method,\\n      raw_payments.amount AS amount\\n    FROM jaffle_shop.main.raw_payments AS raw_payments\\n  ), renamed AS (\\n    SELECT\\n      source.id AS payment_id,\\n      source.order_id AS order_id,\\n      source.payment_method AS payment_method,\\n      source.amount /* `amount` is currently stored in cents, so we convert it to dollars */ / 100 AS amount\\n    FROM source\\n  ), foo AS (\\n    SELECT\\n      renamed.payment_id AS payment_id,\\n      renamed.order_id AS order_id,\\n      renamed.payment_method AS payment_method,\\n      renamed.amount AS amount,\\n      renamed.payment_id AS foobar_id\\n    FROM renamed\\n  )\\n  SELECT\\n    renamed.payment_id AS payment_id,\\n    renamed.order_id AS order_id,\\n    renamed.payment_method AS payment_method,\\n    renamed.amount AS amount\\n  FROM renamed\\n) AS \\\"jaffle_shop.main.stg_payments\\\" /* source: jaffle_shop.main.stg_payments */</pre>\", \"group\": 0}, {\"id\": 4405723872, \"label\": \"renamed.payment_method AS payment_method\", \"title\": \"<pre>/* */\\nWITH source AS (\\n  SELECT\\n    raw_payments.id AS id,\\n    raw_payments.order_id AS order_id,\\n    raw_payments.payment_method AS payment_method,\\n    raw_payments.amount AS amount\\n  FROM jaffle_shop.main.raw_payments AS raw_payments\\n), renamed AS (\\n  SELECT\\n    source.id AS payment_id,\\n    source.order_id AS order_id,\\n    source.payment_method AS payment_method,\\n    source.amount /* `amount` is currently stored in cents, so we convert it to dollars */ / 100 AS amount\\n  FROM source\\n), foo AS (\\n  SELECT\\n    renamed.payment_id AS payment_id,\\n    renamed.order_id AS order_id,\\n    renamed.payment_method AS payment_method,\\n    renamed.amount AS amount,\\n    renamed.payment_id AS foobar_id\\n  FROM renamed\\n)\\nSELECT\\n  <b>renamed.payment_method AS payment_method</b>\\nFROM renamed</pre>\", \"group\": 0}, {\"id\": 4405729248, \"label\": \"source.payment_method AS payment_method\", \"title\": \"<pre>SELECT\\n  <b>source.payment_method AS payment_method</b>\\nFROM source</pre>\", \"group\": 0}, {\"id\": 4405731168, \"label\": \"raw_payments.payment_method AS payment_method\", \"title\": \"<pre>SELECT\\n  <b>raw_payments.payment_method AS payment_method</b>\\nFROM jaffle_shop.main.raw_payments AS raw_payments</pre>\", \"group\": 0}, {\"id\": 4405728192, \"label\": \"FROM raw_payments\", \"title\": \"<pre>SELECT raw_payments.payment_method FROM raw_payments</pre>\", \"group\": 1}])\n",
       "    nodes.forEach(row => row[\"title\"] = new DOMParser().parseFromString(row[\"title\"], \"text/html\").body.childNodes[0])\n",
       "\n",
       "    new vis.Network(\n",
       "        document.getElementById(\"sqlglot-lineage\"),\n",
       "        {\n",
       "            nodes: nodes,\n",
       "            edges: new vis.DataSet([{\"from\": 4406173200, \"to\": 4406295232}, {\"from\": 4406295232, \"to\": 4406092432}, {\"from\": 4406092432, \"to\": 4406089216}, {\"from\": 4406092432, \"to\": 4406093968}, {\"from\": 4406089216, \"to\": 4405727232}, {\"from\": 4405727232, \"to\": 4405731072}, {\"from\": 4405731072, \"to\": 4405728720}, {\"from\": 4405728720, \"to\": 4405723296}, {\"from\": 4406093968, \"to\": 4405723872}, {\"from\": 4405723872, \"to\": 4405729248}, {\"from\": 4405729248, \"to\": 4405731168}, {\"from\": 4405731168, \"to\": 4405728192}])\n",
       "        },\n",
       "        {\"height\": \"500px\", \"width\": \"100%\", \"layout\": {\"hierarchical\": {\"enabled\": true, \"nodeSpacing\": 200, \"sortMethod\": \"directed\"}}, \"interaction\": {\"dragNodes\": false, \"selectable\": false}, \"physics\": {\"enabled\": false}, \"edges\": {\"arrows\": \"to\"}, \"nodes\": {\"font\": \"20px monaco\", \"shape\": \"box\", \"widthConstraint\": {\"maximum\": 300}}},\n",
       "    )\n",
       "  </script>\n",
       "</div>"
      ],
      "text/plain": [
       "<sqlglot.lineage.LineageHTML at 0x1069fb370>"
      ]
     },
     "execution_count": 20,
     "metadata": {},
     "output_type": "execute_result"
    }
   ],
   "source": [
    "node = lineage(\"credit_card_amount\", orders, sources=sources, schema=raw_schemas, dialect=\"duckdb\")\n",
    "node.to_html()"
   ]
  },
  {
   "cell_type": "code",
   "execution_count": 21,
   "id": "2a64992a-e0b2-408d-9911-f49519670607",
   "metadata": {},
   "outputs": [
    {
     "data": {
      "text/html": [
       "<div>\n",
       "  <div id=\"sqlglot-lineage\"></div>\n",
       "  <script type=\"text/javascript\" src=\"https://unpkg.com/vis-data@latest/peer/umd/vis-data.min.js\"></script>\n",
       "  <script type=\"text/javascript\" src=\"https://unpkg.com/vis-network@latest/peer/umd/vis-network.min.js\"></script>\n",
       "  <link rel=\"stylesheet\" type=\"text/css\" href=\"https://unpkg.com/vis-network/styles/vis-network.min.css\" />\n",
       "  <script type=\"text/javascript\">\n",
       "    var nodes = new vis.DataSet([{\"id\": 4405734192, \"label\": \"final.coupon_amount AS coupon_amount\", \"title\": \"<pre>WITH orders AS (\\n  SELECT\\n    \\\"jaffle_shop.main.stg_orders\\\".order_id AS order_id,\\n    \\\"jaffle_shop.main.stg_orders\\\".customer_id AS customer_id,\\n    \\\"jaffle_shop.main.stg_orders\\\".order_date AS order_date,\\n    \\\"jaffle_shop.main.stg_orders\\\".status AS status\\n  FROM (\\n    WITH source AS (\\n      SELECT\\n        raw_orders.id AS id,\\n        raw_orders.user_id AS user_id,\\n        raw_orders.order_date AS order_date,\\n        raw_orders.status AS status\\n      FROM jaffle_shop.main.raw_orders AS raw_orders\\n    ), renamed AS (\\n      SELECT\\n        source.id AS order_id,\\n        source.user_id AS customer_id,\\n        source.order_date AS order_date,\\n        source.status AS status\\n      FROM source\\n    )\\n    SELECT\\n      renamed.order_id AS order_id,\\n      renamed.customer_id AS customer_id,\\n      renamed.order_date AS order_date,\\n      renamed.status AS status\\n    FROM renamed\\n  ) AS \\\"jaffle_shop.main.stg_orders\\\" /* source: jaffle_shop.main.stg_orders */\\n), payments AS (\\n  SELECT\\n    \\\"jaffle_shop.main.stg_payments\\\".payment_id AS payment_id,\\n    \\\"jaffle_shop.main.stg_payments\\\".order_id AS order_id,\\n    \\\"jaffle_shop.main.stg_payments\\\".payment_method AS payment_method,\\n    \\\"jaffle_shop.main.stg_payments\\\".amount AS amount\\n  FROM (\\n    /* */\\n    WITH source AS (\\n      SELECT\\n        raw_payments.id AS id,\\n        raw_payments.order_id AS order_id,\\n        raw_payments.payment_method AS payment_method,\\n        raw_payments.amount AS amount\\n      FROM jaffle_shop.main.raw_payments AS raw_payments\\n    ), renamed AS (\\n      SELECT\\n        source.id AS payment_id,\\n        source.order_id AS order_id,\\n        source.payment_method AS payment_method,\\n        source.amount /* `amount` is currently stored in cents, so we convert it to dollars */ / 100 AS amount\\n      FROM source\\n    ), foo AS (\\n      SELECT\\n        renamed.payment_id AS payment_id,\\n        renamed.order_id AS order_id,\\n        renamed.payment_method AS payment_method,\\n        renamed.amount AS amount,\\n        renamed.payment_id AS foobar_id\\n      FROM renamed\\n    )\\n    SELECT\\n      renamed.payment_id AS payment_id,\\n      renamed.order_id AS order_id,\\n      renamed.payment_method AS payment_method,\\n      renamed.amount AS amount\\n    FROM renamed\\n  ) AS \\\"jaffle_shop.main.stg_payments\\\" /* source: jaffle_shop.main.stg_payments */\\n), order_payments AS (\\n  SELECT\\n    payments.order_id AS order_id,\\n    SUM(\\n      CASE WHEN payments.payment_method = 'credit_card' THEN payments.amount ELSE 0 END\\n    ) AS credit_card_amount,\\n    SUM(CASE WHEN payments.payment_method = 'coupon' THEN payments.amount ELSE 0 END) AS coupon_amount,\\n    SUM(\\n      CASE WHEN payments.payment_method = 'bank_transfer' THEN payments.amount ELSE 0 END\\n    ) AS bank_transfer_amount,\\n    SUM(CASE WHEN payments.payment_method = 'gift_card' THEN payments.amount ELSE 0 END) AS gift_card_amount,\\n    SUM(payments.amount) AS total_amount\\n  FROM payments\\n  GROUP BY\\n    payments.order_id\\n), final AS (\\n  SELECT\\n    orders.order_id AS order_id,\\n    orders.customer_id AS customer_id,\\n    orders.order_date AS order_date,\\n    orders.status AS status,\\n    order_payments.credit_card_amount AS credit_card_amount,\\n    order_payments.coupon_amount AS coupon_amount,\\n    order_payments.bank_transfer_amount AS bank_transfer_amount,\\n    order_payments.gift_card_amount AS gift_card_amount,\\n    order_payments.total_amount AS amount\\n  FROM orders\\n  LEFT JOIN order_payments\\n    ON orders.order_id = order_payments.order_id\\n)\\nSELECT\\n  <b>final.coupon_amount AS coupon_amount</b>\\nFROM final</pre>\", \"group\": 0}, {\"id\": 4406132992, \"label\": \"order_payments.coupon_amount AS coupon_amount\", \"title\": \"<pre>SELECT\\n  <b>order_payments.coupon_amount AS coupon_amount</b>\\nFROM orders\\nLEFT JOIN order_payments\\n  ON orders.order_id = order_payments.order_id</pre>\", \"group\": 0}, {\"id\": 4406142736, \"label\": \"SUM(CASE WHEN payments.payment_method = 'coupon' THEN payments.amount ELSE 0 END) AS coupon_amount\", \"title\": \"<pre>SELECT\\n  <b>SUM(CASE WHEN payments.payment_method = 'coupon' THEN payments.amount ELSE 0 END) AS coupon_amount</b>\\nFROM payments\\nGROUP BY\\n  payments.order_id</pre>\", \"group\": 0}, {\"id\": 4406133136, \"label\": \"\\\"jaffle_shop.main.stg_payments\\\".amount AS amount\", \"title\": \"<pre>SELECT\\n  <b>\\\"jaffle_shop.main.stg_payments\\\".amount AS amount</b>\\nFROM (\\n  /* */\\n  WITH source AS (\\n    SELECT\\n      raw_payments.id AS id,\\n      raw_payments.order_id AS order_id,\\n      raw_payments.payment_method AS payment_method,\\n      raw_payments.amount AS amount\\n    FROM jaffle_shop.main.raw_payments AS raw_payments\\n  ), renamed AS (\\n    SELECT\\n      source.id AS payment_id,\\n      source.order_id AS order_id,\\n      source.payment_method AS payment_method,\\n      source.amount /* `amount` is currently stored in cents, so we convert it to dollars */ / 100 AS amount\\n    FROM source\\n  ), foo AS (\\n    SELECT\\n      renamed.payment_id AS payment_id,\\n      renamed.order_id AS order_id,\\n      renamed.payment_method AS payment_method,\\n      renamed.amount AS amount,\\n      renamed.payment_id AS foobar_id\\n    FROM renamed\\n  )\\n  SELECT\\n    renamed.payment_id AS payment_id,\\n    renamed.order_id AS order_id,\\n    renamed.payment_method AS payment_method,\\n    renamed.amount AS amount\\n  FROM renamed\\n) AS \\\"jaffle_shop.main.stg_payments\\\" /* source: jaffle_shop.main.stg_payments */</pre>\", \"group\": 0}, {\"id\": 4406143216, \"label\": \"renamed.amount AS amount\", \"title\": \"<pre>/* */\\nWITH source AS (\\n  SELECT\\n    raw_payments.id AS id,\\n    raw_payments.order_id AS order_id,\\n    raw_payments.payment_method AS payment_method,\\n    raw_payments.amount AS amount\\n  FROM jaffle_shop.main.raw_payments AS raw_payments\\n), renamed AS (\\n  SELECT\\n    source.id AS payment_id,\\n    source.order_id AS order_id,\\n    source.payment_method AS payment_method,\\n    source.amount /* `amount` is currently stored in cents, so we convert it to dollars */ / 100 AS amount\\n  FROM source\\n), foo AS (\\n  SELECT\\n    renamed.payment_id AS payment_id,\\n    renamed.order_id AS order_id,\\n    renamed.payment_method AS payment_method,\\n    renamed.amount AS amount,\\n    renamed.payment_id AS foobar_id\\n  FROM renamed\\n)\\nSELECT\\n  <b>renamed.amount AS amount</b>\\nFROM renamed</pre>\", \"group\": 0}, {\"id\": 4406143024, \"label\": \"source.amount /* `amount` is currently stored in cents, so we convert it to dollars */ / 100 AS amount\", \"title\": \"<pre>SELECT\\n  <b>source.amount /* `amount` is currently stored in cents, so we convert it to dollars */ / 100 AS amount</b>\\nFROM source</pre>\", \"group\": 0}, {\"id\": 4406144800, \"label\": \"raw_payments.amount AS amount\", \"title\": \"<pre>SELECT\\n  <b>raw_payments.amount AS amount</b>\\nFROM jaffle_shop.main.raw_payments AS raw_payments</pre>\", \"group\": 0}, {\"id\": 4406144848, \"label\": \"FROM raw_payments\", \"title\": \"<pre>SELECT raw_payments.amount FROM raw_payments</pre>\", \"group\": 1}, {\"id\": 4406134336, \"label\": \"\\\"jaffle_shop.main.stg_payments\\\".payment_method AS payment_method\", \"title\": \"<pre>SELECT\\n  <b>\\\"jaffle_shop.main.stg_payments\\\".payment_method AS payment_method</b>\\nFROM (\\n  /* */\\n  WITH source AS (\\n    SELECT\\n      raw_payments.id AS id,\\n      raw_payments.order_id AS order_id,\\n      raw_payments.payment_method AS payment_method,\\n      raw_payments.amount AS amount\\n    FROM jaffle_shop.main.raw_payments AS raw_payments\\n  ), renamed AS (\\n    SELECT\\n      source.id AS payment_id,\\n      source.order_id AS order_id,\\n      source.payment_method AS payment_method,\\n      source.amount /* `amount` is currently stored in cents, so we convert it to dollars */ / 100 AS amount\\n    FROM source\\n  ), foo AS (\\n    SELECT\\n      renamed.payment_id AS payment_id,\\n      renamed.order_id AS order_id,\\n      renamed.payment_method AS payment_method,\\n      renamed.amount AS amount,\\n      renamed.payment_id AS foobar_id\\n    FROM renamed\\n  )\\n  SELECT\\n    renamed.payment_id AS payment_id,\\n    renamed.order_id AS order_id,\\n    renamed.payment_method AS payment_method,\\n    renamed.amount AS amount\\n  FROM renamed\\n) AS \\\"jaffle_shop.main.stg_payments\\\" /* source: jaffle_shop.main.stg_payments */</pre>\", \"group\": 0}, {\"id\": 4406145088, \"label\": \"renamed.payment_method AS payment_method\", \"title\": \"<pre>/* */\\nWITH source AS (\\n  SELECT\\n    raw_payments.id AS id,\\n    raw_payments.order_id AS order_id,\\n    raw_payments.payment_method AS payment_method,\\n    raw_payments.amount AS amount\\n  FROM jaffle_shop.main.raw_payments AS raw_payments\\n), renamed AS (\\n  SELECT\\n    source.id AS payment_id,\\n    source.order_id AS order_id,\\n    source.payment_method AS payment_method,\\n    source.amount /* `amount` is currently stored in cents, so we convert it to dollars */ / 100 AS amount\\n  FROM source\\n), foo AS (\\n  SELECT\\n    renamed.payment_id AS payment_id,\\n    renamed.order_id AS order_id,\\n    renamed.payment_method AS payment_method,\\n    renamed.amount AS amount,\\n    renamed.payment_id AS foobar_id\\n  FROM renamed\\n)\\nSELECT\\n  <b>renamed.payment_method AS payment_method</b>\\nFROM renamed</pre>\", \"group\": 0}, {\"id\": 4406145328, \"label\": \"source.payment_method AS payment_method\", \"title\": \"<pre>SELECT\\n  <b>source.payment_method AS payment_method</b>\\nFROM source</pre>\", \"group\": 0}, {\"id\": 4406145280, \"label\": \"raw_payments.payment_method AS payment_method\", \"title\": \"<pre>SELECT\\n  <b>raw_payments.payment_method AS payment_method</b>\\nFROM jaffle_shop.main.raw_payments AS raw_payments</pre>\", \"group\": 0}, {\"id\": 4406144944, \"label\": \"FROM raw_payments\", \"title\": \"<pre>SELECT raw_payments.payment_method FROM raw_payments</pre>\", \"group\": 1}])\n",
       "    nodes.forEach(row => row[\"title\"] = new DOMParser().parseFromString(row[\"title\"], \"text/html\").body.childNodes[0])\n",
       "\n",
       "    new vis.Network(\n",
       "        document.getElementById(\"sqlglot-lineage\"),\n",
       "        {\n",
       "            nodes: nodes,\n",
       "            edges: new vis.DataSet([{\"from\": 4405734192, \"to\": 4406132992}, {\"from\": 4406132992, \"to\": 4406142736}, {\"from\": 4406142736, \"to\": 4406133136}, {\"from\": 4406142736, \"to\": 4406134336}, {\"from\": 4406133136, \"to\": 4406143216}, {\"from\": 4406143216, \"to\": 4406143024}, {\"from\": 4406143024, \"to\": 4406144800}, {\"from\": 4406144800, \"to\": 4406144848}, {\"from\": 4406134336, \"to\": 4406145088}, {\"from\": 4406145088, \"to\": 4406145328}, {\"from\": 4406145328, \"to\": 4406145280}, {\"from\": 4406145280, \"to\": 4406144944}])\n",
       "        },\n",
       "        {\"height\": \"500px\", \"width\": \"100%\", \"layout\": {\"hierarchical\": {\"enabled\": true, \"nodeSpacing\": 200, \"sortMethod\": \"directed\"}}, \"interaction\": {\"dragNodes\": false, \"selectable\": false}, \"physics\": {\"enabled\": false}, \"edges\": {\"arrows\": \"to\"}, \"nodes\": {\"font\": \"20px monaco\", \"shape\": \"box\", \"widthConstraint\": {\"maximum\": 300}}},\n",
       "    )\n",
       "  </script>\n",
       "</div>"
      ],
      "text/plain": [
       "<sqlglot.lineage.LineageHTML at 0x1069a1510>"
      ]
     },
     "execution_count": 21,
     "metadata": {},
     "output_type": "execute_result"
    }
   ],
   "source": [
    "node = lineage(\"coupon_amount\", orders, sources=sources, schema=raw_schemas, dialect=\"duckdb\")\n",
    "node.to_html()"
   ]
  },
  {
   "cell_type": "code",
   "execution_count": 22,
   "id": "b2d1d4a6-1bf4-4da0-bac5-d938a20e95a2",
   "metadata": {},
   "outputs": [
    {
     "data": {
      "text/html": [
       "<div>\n",
       "  <div id=\"sqlglot-lineage\"></div>\n",
       "  <script type=\"text/javascript\" src=\"https://unpkg.com/vis-data@latest/peer/umd/vis-data.min.js\"></script>\n",
       "  <script type=\"text/javascript\" src=\"https://unpkg.com/vis-network@latest/peer/umd/vis-network.min.js\"></script>\n",
       "  <link rel=\"stylesheet\" type=\"text/css\" href=\"https://unpkg.com/vis-network/styles/vis-network.min.css\" />\n",
       "  <script type=\"text/javascript\">\n",
       "    var nodes = new vis.DataSet([{\"id\": 4405732272, \"label\": \"final.bank_transfer_amount AS bank_transfer_amount\", \"title\": \"<pre>WITH orders AS (\\n  SELECT\\n    \\\"jaffle_shop.main.stg_orders\\\".order_id AS order_id,\\n    \\\"jaffle_shop.main.stg_orders\\\".customer_id AS customer_id,\\n    \\\"jaffle_shop.main.stg_orders\\\".order_date AS order_date,\\n    \\\"jaffle_shop.main.stg_orders\\\".status AS status\\n  FROM (\\n    WITH source AS (\\n      SELECT\\n        raw_orders.id AS id,\\n        raw_orders.user_id AS user_id,\\n        raw_orders.order_date AS order_date,\\n        raw_orders.status AS status\\n      FROM jaffle_shop.main.raw_orders AS raw_orders\\n    ), renamed AS (\\n      SELECT\\n        source.id AS order_id,\\n        source.user_id AS customer_id,\\n        source.order_date AS order_date,\\n        source.status AS status\\n      FROM source\\n    )\\n    SELECT\\n      renamed.order_id AS order_id,\\n      renamed.customer_id AS customer_id,\\n      renamed.order_date AS order_date,\\n      renamed.status AS status\\n    FROM renamed\\n  ) AS \\\"jaffle_shop.main.stg_orders\\\" /* source: jaffle_shop.main.stg_orders */\\n), payments AS (\\n  SELECT\\n    \\\"jaffle_shop.main.stg_payments\\\".payment_id AS payment_id,\\n    \\\"jaffle_shop.main.stg_payments\\\".order_id AS order_id,\\n    \\\"jaffle_shop.main.stg_payments\\\".payment_method AS payment_method,\\n    \\\"jaffle_shop.main.stg_payments\\\".amount AS amount\\n  FROM (\\n    /* */\\n    WITH source AS (\\n      SELECT\\n        raw_payments.id AS id,\\n        raw_payments.order_id AS order_id,\\n        raw_payments.payment_method AS payment_method,\\n        raw_payments.amount AS amount\\n      FROM jaffle_shop.main.raw_payments AS raw_payments\\n    ), renamed AS (\\n      SELECT\\n        source.id AS payment_id,\\n        source.order_id AS order_id,\\n        source.payment_method AS payment_method,\\n        source.amount /* `amount` is currently stored in cents, so we convert it to dollars */ / 100 AS amount\\n      FROM source\\n    ), foo AS (\\n      SELECT\\n        renamed.payment_id AS payment_id,\\n        renamed.order_id AS order_id,\\n        renamed.payment_method AS payment_method,\\n        renamed.amount AS amount,\\n        renamed.payment_id AS foobar_id\\n      FROM renamed\\n    )\\n    SELECT\\n      renamed.payment_id AS payment_id,\\n      renamed.order_id AS order_id,\\n      renamed.payment_method AS payment_method,\\n      renamed.amount AS amount\\n    FROM renamed\\n  ) AS \\\"jaffle_shop.main.stg_payments\\\" /* source: jaffle_shop.main.stg_payments */\\n), order_payments AS (\\n  SELECT\\n    payments.order_id AS order_id,\\n    SUM(\\n      CASE WHEN payments.payment_method = 'credit_card' THEN payments.amount ELSE 0 END\\n    ) AS credit_card_amount,\\n    SUM(CASE WHEN payments.payment_method = 'coupon' THEN payments.amount ELSE 0 END) AS coupon_amount,\\n    SUM(\\n      CASE WHEN payments.payment_method = 'bank_transfer' THEN payments.amount ELSE 0 END\\n    ) AS bank_transfer_amount,\\n    SUM(CASE WHEN payments.payment_method = 'gift_card' THEN payments.amount ELSE 0 END) AS gift_card_amount,\\n    SUM(payments.amount) AS total_amount\\n  FROM payments\\n  GROUP BY\\n    payments.order_id\\n), final AS (\\n  SELECT\\n    orders.order_id AS order_id,\\n    orders.customer_id AS customer_id,\\n    orders.order_date AS order_date,\\n    orders.status AS status,\\n    order_payments.credit_card_amount AS credit_card_amount,\\n    order_payments.coupon_amount AS coupon_amount,\\n    order_payments.bank_transfer_amount AS bank_transfer_amount,\\n    order_payments.gift_card_amount AS gift_card_amount,\\n    order_payments.total_amount AS amount\\n  FROM orders\\n  LEFT JOIN order_payments\\n    ON orders.order_id = order_payments.order_id\\n)\\nSELECT\\n  <b>final.bank_transfer_amount AS bank_transfer_amount</b>\\nFROM final</pre>\", \"group\": 0}, {\"id\": 4405724064, \"label\": \"order_payments.bank_transfer_amount AS bank_transfer_amount\", \"title\": \"<pre>SELECT\\n  <b>order_payments.bank_transfer_amount AS bank_transfer_amount</b>\\nFROM orders\\nLEFT JOIN order_payments\\n  ON orders.order_id = order_payments.order_id</pre>\", \"group\": 0}, {\"id\": 4405736064, \"label\": \"SUM(\\n  CASE WHEN payments.payment_method = 'bank_transfer' THEN payments.amount ELSE 0 END\\n) AS bank_transfer_amount\", \"title\": \"<pre>SELECT\\n  <b>SUM(\\n    CASE WHEN payments.payment_method = 'bank_transfer' THEN payments.amount ELSE 0 END\\n  ) AS bank_transfer_amount</b>\\nFROM payments\\nGROUP BY\\n  payments.order_id</pre>\", \"group\": 0}, {\"id\": 4405733136, \"label\": \"\\\"jaffle_shop.main.stg_payments\\\".amount AS amount\", \"title\": \"<pre>SELECT\\n  <b>\\\"jaffle_shop.main.stg_payments\\\".amount AS amount</b>\\nFROM (\\n  /* */\\n  WITH source AS (\\n    SELECT\\n      raw_payments.id AS id,\\n      raw_payments.order_id AS order_id,\\n      raw_payments.payment_method AS payment_method,\\n      raw_payments.amount AS amount\\n    FROM jaffle_shop.main.raw_payments AS raw_payments\\n  ), renamed AS (\\n    SELECT\\n      source.id AS payment_id,\\n      source.order_id AS order_id,\\n      source.payment_method AS payment_method,\\n      source.amount /* `amount` is currently stored in cents, so we convert it to dollars */ / 100 AS amount\\n    FROM source\\n  ), foo AS (\\n    SELECT\\n      renamed.payment_id AS payment_id,\\n      renamed.order_id AS order_id,\\n      renamed.payment_method AS payment_method,\\n      renamed.amount AS amount,\\n      renamed.payment_id AS foobar_id\\n    FROM renamed\\n  )\\n  SELECT\\n    renamed.payment_id AS payment_id,\\n    renamed.order_id AS order_id,\\n    renamed.payment_method AS payment_method,\\n    renamed.amount AS amount\\n  FROM renamed\\n) AS \\\"jaffle_shop.main.stg_payments\\\" /* source: jaffle_shop.main.stg_payments */</pre>\", \"group\": 0}, {\"id\": 4405730640, \"label\": \"renamed.amount AS amount\", \"title\": \"<pre>/* */\\nWITH source AS (\\n  SELECT\\n    raw_payments.id AS id,\\n    raw_payments.order_id AS order_id,\\n    raw_payments.payment_method AS payment_method,\\n    raw_payments.amount AS amount\\n  FROM jaffle_shop.main.raw_payments AS raw_payments\\n), renamed AS (\\n  SELECT\\n    source.id AS payment_id,\\n    source.order_id AS order_id,\\n    source.payment_method AS payment_method,\\n    source.amount /* `amount` is currently stored in cents, so we convert it to dollars */ / 100 AS amount\\n  FROM source\\n), foo AS (\\n  SELECT\\n    renamed.payment_id AS payment_id,\\n    renamed.order_id AS order_id,\\n    renamed.payment_method AS payment_method,\\n    renamed.amount AS amount,\\n    renamed.payment_id AS foobar_id\\n  FROM renamed\\n)\\nSELECT\\n  <b>renamed.amount AS amount</b>\\nFROM renamed</pre>\", \"group\": 0}, {\"id\": 4405728576, \"label\": \"source.amount /* `amount` is currently stored in cents, so we convert it to dollars */ / 100 AS amount\", \"title\": \"<pre>SELECT\\n  <b>source.amount /* `amount` is currently stored in cents, so we convert it to dollars */ / 100 AS amount</b>\\nFROM source</pre>\", \"group\": 0}, {\"id\": 4405723920, \"label\": \"raw_payments.amount AS amount\", \"title\": \"<pre>SELECT\\n  <b>raw_payments.amount AS amount</b>\\nFROM jaffle_shop.main.raw_payments AS raw_payments</pre>\", \"group\": 0}, {\"id\": 4405737168, \"label\": \"FROM raw_payments\", \"title\": \"<pre>SELECT raw_payments.amount FROM raw_payments</pre>\", \"group\": 1}, {\"id\": 4405727184, \"label\": \"\\\"jaffle_shop.main.stg_payments\\\".payment_method AS payment_method\", \"title\": \"<pre>SELECT\\n  <b>\\\"jaffle_shop.main.stg_payments\\\".payment_method AS payment_method</b>\\nFROM (\\n  /* */\\n  WITH source AS (\\n    SELECT\\n      raw_payments.id AS id,\\n      raw_payments.order_id AS order_id,\\n      raw_payments.payment_method AS payment_method,\\n      raw_payments.amount AS amount\\n    FROM jaffle_shop.main.raw_payments AS raw_payments\\n  ), renamed AS (\\n    SELECT\\n      source.id AS payment_id,\\n      source.order_id AS order_id,\\n      source.payment_method AS payment_method,\\n      source.amount /* `amount` is currently stored in cents, so we convert it to dollars */ / 100 AS amount\\n    FROM source\\n  ), foo AS (\\n    SELECT\\n      renamed.payment_id AS payment_id,\\n      renamed.order_id AS order_id,\\n      renamed.payment_method AS payment_method,\\n      renamed.amount AS amount,\\n      renamed.payment_id AS foobar_id\\n    FROM renamed\\n  )\\n  SELECT\\n    renamed.payment_id AS payment_id,\\n    renamed.order_id AS order_id,\\n    renamed.payment_method AS payment_method,\\n    renamed.amount AS amount\\n  FROM renamed\\n) AS \\\"jaffle_shop.main.stg_payments\\\" /* source: jaffle_shop.main.stg_payments */</pre>\", \"group\": 0}, {\"id\": 4405724352, \"label\": \"renamed.payment_method AS payment_method\", \"title\": \"<pre>/* */\\nWITH source AS (\\n  SELECT\\n    raw_payments.id AS id,\\n    raw_payments.order_id AS order_id,\\n    raw_payments.payment_method AS payment_method,\\n    raw_payments.amount AS amount\\n  FROM jaffle_shop.main.raw_payments AS raw_payments\\n), renamed AS (\\n  SELECT\\n    source.id AS payment_id,\\n    source.order_id AS order_id,\\n    source.payment_method AS payment_method,\\n    source.amount /* `amount` is currently stored in cents, so we convert it to dollars */ / 100 AS amount\\n  FROM source\\n), foo AS (\\n  SELECT\\n    renamed.payment_id AS payment_id,\\n    renamed.order_id AS order_id,\\n    renamed.payment_method AS payment_method,\\n    renamed.amount AS amount,\\n    renamed.payment_id AS foobar_id\\n  FROM renamed\\n)\\nSELECT\\n  <b>renamed.payment_method AS payment_method</b>\\nFROM renamed</pre>\", \"group\": 0}, {\"id\": 4405724304, \"label\": \"source.payment_method AS payment_method\", \"title\": \"<pre>SELECT\\n  <b>source.payment_method AS payment_method</b>\\nFROM source</pre>\", \"group\": 0}, {\"id\": 4405726848, \"label\": \"raw_payments.payment_method AS payment_method\", \"title\": \"<pre>SELECT\\n  <b>raw_payments.payment_method AS payment_method</b>\\nFROM jaffle_shop.main.raw_payments AS raw_payments</pre>\", \"group\": 0}, {\"id\": 4405731120, \"label\": \"FROM raw_payments\", \"title\": \"<pre>SELECT raw_payments.payment_method FROM raw_payments</pre>\", \"group\": 1}])\n",
       "    nodes.forEach(row => row[\"title\"] = new DOMParser().parseFromString(row[\"title\"], \"text/html\").body.childNodes[0])\n",
       "\n",
       "    new vis.Network(\n",
       "        document.getElementById(\"sqlglot-lineage\"),\n",
       "        {\n",
       "            nodes: nodes,\n",
       "            edges: new vis.DataSet([{\"from\": 4405732272, \"to\": 4405724064}, {\"from\": 4405724064, \"to\": 4405736064}, {\"from\": 4405736064, \"to\": 4405733136}, {\"from\": 4405736064, \"to\": 4405727184}, {\"from\": 4405733136, \"to\": 4405730640}, {\"from\": 4405730640, \"to\": 4405728576}, {\"from\": 4405728576, \"to\": 4405723920}, {\"from\": 4405723920, \"to\": 4405737168}, {\"from\": 4405727184, \"to\": 4405724352}, {\"from\": 4405724352, \"to\": 4405724304}, {\"from\": 4405724304, \"to\": 4405726848}, {\"from\": 4405726848, \"to\": 4405731120}])\n",
       "        },\n",
       "        {\"height\": \"500px\", \"width\": \"100%\", \"layout\": {\"hierarchical\": {\"enabled\": true, \"nodeSpacing\": 200, \"sortMethod\": \"directed\"}}, \"interaction\": {\"dragNodes\": false, \"selectable\": false}, \"physics\": {\"enabled\": false}, \"edges\": {\"arrows\": \"to\"}, \"nodes\": {\"font\": \"20px monaco\", \"shape\": \"box\", \"widthConstraint\": {\"maximum\": 300}}},\n",
       "    )\n",
       "  </script>\n",
       "</div>"
      ],
      "text/plain": [
       "<sqlglot.lineage.LineageHTML at 0x1069a3d00>"
      ]
     },
     "execution_count": 22,
     "metadata": {},
     "output_type": "execute_result"
    }
   ],
   "source": [
    "node = lineage(\"bank_transfer_amount\", orders, sources=sources, schema=raw_schemas, dialect=\"duckdb\")\n",
    "node.to_html()"
   ]
  },
  {
   "cell_type": "code",
   "execution_count": 23,
   "id": "4ead2134-bb4b-4eae-9e97-7a518bdb2c2e",
   "metadata": {},
   "outputs": [
    {
     "data": {
      "text/html": [
       "<div>\n",
       "  <div id=\"sqlglot-lineage\"></div>\n",
       "  <script type=\"text/javascript\" src=\"https://unpkg.com/vis-data@latest/peer/umd/vis-data.min.js\"></script>\n",
       "  <script type=\"text/javascript\" src=\"https://unpkg.com/vis-network@latest/peer/umd/vis-network.min.js\"></script>\n",
       "  <link rel=\"stylesheet\" type=\"text/css\" href=\"https://unpkg.com/vis-network/styles/vis-network.min.css\" />\n",
       "  <script type=\"text/javascript\">\n",
       "    var nodes = new vis.DataSet([{\"id\": 4384262560, \"label\": \"final.gift_card_amount AS gift_card_amount\", \"title\": \"<pre>WITH orders AS (\\n  SELECT\\n    \\\"jaffle_shop.main.stg_orders\\\".order_id AS order_id,\\n    \\\"jaffle_shop.main.stg_orders\\\".customer_id AS customer_id,\\n    \\\"jaffle_shop.main.stg_orders\\\".order_date AS order_date,\\n    \\\"jaffle_shop.main.stg_orders\\\".status AS status\\n  FROM (\\n    WITH source AS (\\n      SELECT\\n        raw_orders.id AS id,\\n        raw_orders.user_id AS user_id,\\n        raw_orders.order_date AS order_date,\\n        raw_orders.status AS status\\n      FROM jaffle_shop.main.raw_orders AS raw_orders\\n    ), renamed AS (\\n      SELECT\\n        source.id AS order_id,\\n        source.user_id AS customer_id,\\n        source.order_date AS order_date,\\n        source.status AS status\\n      FROM source\\n    )\\n    SELECT\\n      renamed.order_id AS order_id,\\n      renamed.customer_id AS customer_id,\\n      renamed.order_date AS order_date,\\n      renamed.status AS status\\n    FROM renamed\\n  ) AS \\\"jaffle_shop.main.stg_orders\\\" /* source: jaffle_shop.main.stg_orders */\\n), payments AS (\\n  SELECT\\n    \\\"jaffle_shop.main.stg_payments\\\".payment_id AS payment_id,\\n    \\\"jaffle_shop.main.stg_payments\\\".order_id AS order_id,\\n    \\\"jaffle_shop.main.stg_payments\\\".payment_method AS payment_method,\\n    \\\"jaffle_shop.main.stg_payments\\\".amount AS amount\\n  FROM (\\n    /* */\\n    WITH source AS (\\n      SELECT\\n        raw_payments.id AS id,\\n        raw_payments.order_id AS order_id,\\n        raw_payments.payment_method AS payment_method,\\n        raw_payments.amount AS amount\\n      FROM jaffle_shop.main.raw_payments AS raw_payments\\n    ), renamed AS (\\n      SELECT\\n        source.id AS payment_id,\\n        source.order_id AS order_id,\\n        source.payment_method AS payment_method,\\n        source.amount /* `amount` is currently stored in cents, so we convert it to dollars */ / 100 AS amount\\n      FROM source\\n    ), foo AS (\\n      SELECT\\n        renamed.payment_id AS payment_id,\\n        renamed.order_id AS order_id,\\n        renamed.payment_method AS payment_method,\\n        renamed.amount AS amount,\\n        renamed.payment_id AS foobar_id\\n      FROM renamed\\n    )\\n    SELECT\\n      renamed.payment_id AS payment_id,\\n      renamed.order_id AS order_id,\\n      renamed.payment_method AS payment_method,\\n      renamed.amount AS amount\\n    FROM renamed\\n  ) AS \\\"jaffle_shop.main.stg_payments\\\" /* source: jaffle_shop.main.stg_payments */\\n), order_payments AS (\\n  SELECT\\n    payments.order_id AS order_id,\\n    SUM(\\n      CASE WHEN payments.payment_method = 'credit_card' THEN payments.amount ELSE 0 END\\n    ) AS credit_card_amount,\\n    SUM(CASE WHEN payments.payment_method = 'coupon' THEN payments.amount ELSE 0 END) AS coupon_amount,\\n    SUM(\\n      CASE WHEN payments.payment_method = 'bank_transfer' THEN payments.amount ELSE 0 END\\n    ) AS bank_transfer_amount,\\n    SUM(CASE WHEN payments.payment_method = 'gift_card' THEN payments.amount ELSE 0 END) AS gift_card_amount,\\n    SUM(payments.amount) AS total_amount\\n  FROM payments\\n  GROUP BY\\n    payments.order_id\\n), final AS (\\n  SELECT\\n    orders.order_id AS order_id,\\n    orders.customer_id AS customer_id,\\n    orders.order_date AS order_date,\\n    orders.status AS status,\\n    order_payments.credit_card_amount AS credit_card_amount,\\n    order_payments.coupon_amount AS coupon_amount,\\n    order_payments.bank_transfer_amount AS bank_transfer_amount,\\n    order_payments.gift_card_amount AS gift_card_amount,\\n    order_payments.total_amount AS amount\\n  FROM orders\\n  LEFT JOIN order_payments\\n    ON orders.order_id = order_payments.order_id\\n)\\nSELECT\\n  <b>final.gift_card_amount AS gift_card_amount</b>\\nFROM final</pre>\", \"group\": 0}, {\"id\": 4384273936, \"label\": \"order_payments.gift_card_amount AS gift_card_amount\", \"title\": \"<pre>SELECT\\n  <b>order_payments.gift_card_amount AS gift_card_amount</b>\\nFROM orders\\nLEFT JOIN order_payments\\n  ON orders.order_id = order_payments.order_id</pre>\", \"group\": 0}, {\"id\": 4384067152, \"label\": \"SUM(CASE WHEN payments.payment_method = 'gift_card' THEN payments.amount ELSE 0 END) AS gift_card_amount\", \"title\": \"<pre>SELECT\\n  <b>SUM(CASE WHEN payments.payment_method = 'gift_card' THEN payments.amount ELSE 0 END) AS gift_card_amount</b>\\nFROM payments\\nGROUP BY\\n  payments.order_id</pre>\", \"group\": 0}, {\"id\": 4405733760, \"label\": \"\\\"jaffle_shop.main.stg_payments\\\".amount AS amount\", \"title\": \"<pre>SELECT\\n  <b>\\\"jaffle_shop.main.stg_payments\\\".amount AS amount</b>\\nFROM (\\n  /* */\\n  WITH source AS (\\n    SELECT\\n      raw_payments.id AS id,\\n      raw_payments.order_id AS order_id,\\n      raw_payments.payment_method AS payment_method,\\n      raw_payments.amount AS amount\\n    FROM jaffle_shop.main.raw_payments AS raw_payments\\n  ), renamed AS (\\n    SELECT\\n      source.id AS payment_id,\\n      source.order_id AS order_id,\\n      source.payment_method AS payment_method,\\n      source.amount /* `amount` is currently stored in cents, so we convert it to dollars */ / 100 AS amount\\n    FROM source\\n  ), foo AS (\\n    SELECT\\n      renamed.payment_id AS payment_id,\\n      renamed.order_id AS order_id,\\n      renamed.payment_method AS payment_method,\\n      renamed.amount AS amount,\\n      renamed.payment_id AS foobar_id\\n    FROM renamed\\n  )\\n  SELECT\\n    renamed.payment_id AS payment_id,\\n    renamed.order_id AS order_id,\\n    renamed.payment_method AS payment_method,\\n    renamed.amount AS amount\\n  FROM renamed\\n) AS \\\"jaffle_shop.main.stg_payments\\\" /* source: jaffle_shop.main.stg_payments */</pre>\", \"group\": 0}, {\"id\": 4405725360, \"label\": \"renamed.amount AS amount\", \"title\": \"<pre>/* */\\nWITH source AS (\\n  SELECT\\n    raw_payments.id AS id,\\n    raw_payments.order_id AS order_id,\\n    raw_payments.payment_method AS payment_method,\\n    raw_payments.amount AS amount\\n  FROM jaffle_shop.main.raw_payments AS raw_payments\\n), renamed AS (\\n  SELECT\\n    source.id AS payment_id,\\n    source.order_id AS order_id,\\n    source.payment_method AS payment_method,\\n    source.amount /* `amount` is currently stored in cents, so we convert it to dollars */ / 100 AS amount\\n  FROM source\\n), foo AS (\\n  SELECT\\n    renamed.payment_id AS payment_id,\\n    renamed.order_id AS order_id,\\n    renamed.payment_method AS payment_method,\\n    renamed.amount AS amount,\\n    renamed.payment_id AS foobar_id\\n  FROM renamed\\n)\\nSELECT\\n  <b>renamed.amount AS amount</b>\\nFROM renamed</pre>\", \"group\": 0}, {\"id\": 4405725408, \"label\": \"source.amount /* `amount` is currently stored in cents, so we convert it to dollars */ / 100 AS amount\", \"title\": \"<pre>SELECT\\n  <b>source.amount /* `amount` is currently stored in cents, so we convert it to dollars */ / 100 AS amount</b>\\nFROM source</pre>\", \"group\": 0}, {\"id\": 4405736496, \"label\": \"raw_payments.amount AS amount\", \"title\": \"<pre>SELECT\\n  <b>raw_payments.amount AS amount</b>\\nFROM jaffle_shop.main.raw_payments AS raw_payments</pre>\", \"group\": 0}, {\"id\": 4405729152, \"label\": \"FROM raw_payments\", \"title\": \"<pre>SELECT raw_payments.amount FROM raw_payments</pre>\", \"group\": 1}, {\"id\": 4405732080, \"label\": \"\\\"jaffle_shop.main.stg_payments\\\".payment_method AS payment_method\", \"title\": \"<pre>SELECT\\n  <b>\\\"jaffle_shop.main.stg_payments\\\".payment_method AS payment_method</b>\\nFROM (\\n  /* */\\n  WITH source AS (\\n    SELECT\\n      raw_payments.id AS id,\\n      raw_payments.order_id AS order_id,\\n      raw_payments.payment_method AS payment_method,\\n      raw_payments.amount AS amount\\n    FROM jaffle_shop.main.raw_payments AS raw_payments\\n  ), renamed AS (\\n    SELECT\\n      source.id AS payment_id,\\n      source.order_id AS order_id,\\n      source.payment_method AS payment_method,\\n      source.amount /* `amount` is currently stored in cents, so we convert it to dollars */ / 100 AS amount\\n    FROM source\\n  ), foo AS (\\n    SELECT\\n      renamed.payment_id AS payment_id,\\n      renamed.order_id AS order_id,\\n      renamed.payment_method AS payment_method,\\n      renamed.amount AS amount,\\n      renamed.payment_id AS foobar_id\\n    FROM renamed\\n  )\\n  SELECT\\n    renamed.payment_id AS payment_id,\\n    renamed.order_id AS order_id,\\n    renamed.payment_method AS payment_method,\\n    renamed.amount AS amount\\n  FROM renamed\\n) AS \\\"jaffle_shop.main.stg_payments\\\" /* source: jaffle_shop.main.stg_payments */</pre>\", \"group\": 0}, {\"id\": 4405739328, \"label\": \"renamed.payment_method AS payment_method\", \"title\": \"<pre>/* */\\nWITH source AS (\\n  SELECT\\n    raw_payments.id AS id,\\n    raw_payments.order_id AS order_id,\\n    raw_payments.payment_method AS payment_method,\\n    raw_payments.amount AS amount\\n  FROM jaffle_shop.main.raw_payments AS raw_payments\\n), renamed AS (\\n  SELECT\\n    source.id AS payment_id,\\n    source.order_id AS order_id,\\n    source.payment_method AS payment_method,\\n    source.amount /* `amount` is currently stored in cents, so we convert it to dollars */ / 100 AS amount\\n  FROM source\\n), foo AS (\\n  SELECT\\n    renamed.payment_id AS payment_id,\\n    renamed.order_id AS order_id,\\n    renamed.payment_method AS payment_method,\\n    renamed.amount AS amount,\\n    renamed.payment_id AS foobar_id\\n  FROM renamed\\n)\\nSELECT\\n  <b>renamed.payment_method AS payment_method</b>\\nFROM renamed</pre>\", \"group\": 0}, {\"id\": 4405731744, \"label\": \"source.payment_method AS payment_method\", \"title\": \"<pre>SELECT\\n  <b>source.payment_method AS payment_method</b>\\nFROM source</pre>\", \"group\": 0}, {\"id\": 4405733040, \"label\": \"raw_payments.payment_method AS payment_method\", \"title\": \"<pre>SELECT\\n  <b>raw_payments.payment_method AS payment_method</b>\\nFROM jaffle_shop.main.raw_payments AS raw_payments</pre>\", \"group\": 0}, {\"id\": 4405737600, \"label\": \"FROM raw_payments\", \"title\": \"<pre>SELECT raw_payments.payment_method FROM raw_payments</pre>\", \"group\": 1}])\n",
       "    nodes.forEach(row => row[\"title\"] = new DOMParser().parseFromString(row[\"title\"], \"text/html\").body.childNodes[0])\n",
       "\n",
       "    new vis.Network(\n",
       "        document.getElementById(\"sqlglot-lineage\"),\n",
       "        {\n",
       "            nodes: nodes,\n",
       "            edges: new vis.DataSet([{\"from\": 4384262560, \"to\": 4384273936}, {\"from\": 4384273936, \"to\": 4384067152}, {\"from\": 4384067152, \"to\": 4405733760}, {\"from\": 4384067152, \"to\": 4405732080}, {\"from\": 4405733760, \"to\": 4405725360}, {\"from\": 4405725360, \"to\": 4405725408}, {\"from\": 4405725408, \"to\": 4405736496}, {\"from\": 4405736496, \"to\": 4405729152}, {\"from\": 4405732080, \"to\": 4405739328}, {\"from\": 4405739328, \"to\": 4405731744}, {\"from\": 4405731744, \"to\": 4405733040}, {\"from\": 4405733040, \"to\": 4405737600}])\n",
       "        },\n",
       "        {\"height\": \"500px\", \"width\": \"100%\", \"layout\": {\"hierarchical\": {\"enabled\": true, \"nodeSpacing\": 200, \"sortMethod\": \"directed\"}}, \"interaction\": {\"dragNodes\": false, \"selectable\": false}, \"physics\": {\"enabled\": false}, \"edges\": {\"arrows\": \"to\"}, \"nodes\": {\"font\": \"20px monaco\", \"shape\": \"box\", \"widthConstraint\": {\"maximum\": 300}}},\n",
       "    )\n",
       "  </script>\n",
       "</div>"
      ],
      "text/plain": [
       "<sqlglot.lineage.LineageHTML at 0x1054f8d60>"
      ]
     },
     "execution_count": 23,
     "metadata": {},
     "output_type": "execute_result"
    }
   ],
   "source": [
    "node = lineage(\"gift_card_amount\", orders, sources=sources, schema=raw_schemas, dialect=\"duckdb\")\n",
    "node.to_html()"
   ]
  },
  {
   "cell_type": "code",
   "execution_count": 24,
   "id": "395d1305-5c0e-4755-b774-6b598e4389b2",
   "metadata": {},
   "outputs": [
    {
     "data": {
      "text/html": [
       "<div>\n",
       "  <div id=\"sqlglot-lineage\"></div>\n",
       "  <script type=\"text/javascript\" src=\"https://unpkg.com/vis-data@latest/peer/umd/vis-data.min.js\"></script>\n",
       "  <script type=\"text/javascript\" src=\"https://unpkg.com/vis-network@latest/peer/umd/vis-network.min.js\"></script>\n",
       "  <link rel=\"stylesheet\" type=\"text/css\" href=\"https://unpkg.com/vis-network/styles/vis-network.min.css\" />\n",
       "  <script type=\"text/javascript\">\n",
       "    var nodes = new vis.DataSet([{\"id\": 4405737936, \"label\": \"final.amount AS amount\", \"title\": \"<pre>WITH orders AS (\\n  SELECT\\n    \\\"jaffle_shop.main.stg_orders\\\".order_id AS order_id,\\n    \\\"jaffle_shop.main.stg_orders\\\".customer_id AS customer_id,\\n    \\\"jaffle_shop.main.stg_orders\\\".order_date AS order_date,\\n    \\\"jaffle_shop.main.stg_orders\\\".status AS status\\n  FROM (\\n    WITH source AS (\\n      SELECT\\n        raw_orders.id AS id,\\n        raw_orders.user_id AS user_id,\\n        raw_orders.order_date AS order_date,\\n        raw_orders.status AS status\\n      FROM jaffle_shop.main.raw_orders AS raw_orders\\n    ), renamed AS (\\n      SELECT\\n        source.id AS order_id,\\n        source.user_id AS customer_id,\\n        source.order_date AS order_date,\\n        source.status AS status\\n      FROM source\\n    )\\n    SELECT\\n      renamed.order_id AS order_id,\\n      renamed.customer_id AS customer_id,\\n      renamed.order_date AS order_date,\\n      renamed.status AS status\\n    FROM renamed\\n  ) AS \\\"jaffle_shop.main.stg_orders\\\" /* source: jaffle_shop.main.stg_orders */\\n), payments AS (\\n  SELECT\\n    \\\"jaffle_shop.main.stg_payments\\\".payment_id AS payment_id,\\n    \\\"jaffle_shop.main.stg_payments\\\".order_id AS order_id,\\n    \\\"jaffle_shop.main.stg_payments\\\".payment_method AS payment_method,\\n    \\\"jaffle_shop.main.stg_payments\\\".amount AS amount\\n  FROM (\\n    /* */\\n    WITH source AS (\\n      SELECT\\n        raw_payments.id AS id,\\n        raw_payments.order_id AS order_id,\\n        raw_payments.payment_method AS payment_method,\\n        raw_payments.amount AS amount\\n      FROM jaffle_shop.main.raw_payments AS raw_payments\\n    ), renamed AS (\\n      SELECT\\n        source.id AS payment_id,\\n        source.order_id AS order_id,\\n        source.payment_method AS payment_method,\\n        source.amount /* `amount` is currently stored in cents, so we convert it to dollars */ / 100 AS amount\\n      FROM source\\n    ), foo AS (\\n      SELECT\\n        renamed.payment_id AS payment_id,\\n        renamed.order_id AS order_id,\\n        renamed.payment_method AS payment_method,\\n        renamed.amount AS amount,\\n        renamed.payment_id AS foobar_id\\n      FROM renamed\\n    )\\n    SELECT\\n      renamed.payment_id AS payment_id,\\n      renamed.order_id AS order_id,\\n      renamed.payment_method AS payment_method,\\n      renamed.amount AS amount\\n    FROM renamed\\n  ) AS \\\"jaffle_shop.main.stg_payments\\\" /* source: jaffle_shop.main.stg_payments */\\n), order_payments AS (\\n  SELECT\\n    payments.order_id AS order_id,\\n    SUM(\\n      CASE WHEN payments.payment_method = 'credit_card' THEN payments.amount ELSE 0 END\\n    ) AS credit_card_amount,\\n    SUM(CASE WHEN payments.payment_method = 'coupon' THEN payments.amount ELSE 0 END) AS coupon_amount,\\n    SUM(\\n      CASE WHEN payments.payment_method = 'bank_transfer' THEN payments.amount ELSE 0 END\\n    ) AS bank_transfer_amount,\\n    SUM(CASE WHEN payments.payment_method = 'gift_card' THEN payments.amount ELSE 0 END) AS gift_card_amount,\\n    SUM(payments.amount) AS total_amount\\n  FROM payments\\n  GROUP BY\\n    payments.order_id\\n), final AS (\\n  SELECT\\n    orders.order_id AS order_id,\\n    orders.customer_id AS customer_id,\\n    orders.order_date AS order_date,\\n    orders.status AS status,\\n    order_payments.credit_card_amount AS credit_card_amount,\\n    order_payments.coupon_amount AS coupon_amount,\\n    order_payments.bank_transfer_amount AS bank_transfer_amount,\\n    order_payments.gift_card_amount AS gift_card_amount,\\n    order_payments.total_amount AS amount\\n  FROM orders\\n  LEFT JOIN order_payments\\n    ON orders.order_id = order_payments.order_id\\n)\\nSELECT\\n  <b>final.amount AS amount</b>\\nFROM final</pre>\", \"group\": 0}, {\"id\": 4405731504, \"label\": \"order_payments.total_amount AS amount\", \"title\": \"<pre>SELECT\\n  <b>order_payments.total_amount AS amount</b>\\nFROM orders\\nLEFT JOIN order_payments\\n  ON orders.order_id = order_payments.order_id</pre>\", \"group\": 0}, {\"id\": 4405730832, \"label\": \"SUM(payments.amount) AS total_amount\", \"title\": \"<pre>SELECT\\n  <b>SUM(payments.amount) AS total_amount</b>\\nFROM payments\\nGROUP BY\\n  payments.order_id</pre>\", \"group\": 0}, {\"id\": 4406097040, \"label\": \"\\\"jaffle_shop.main.stg_payments\\\".amount AS amount\", \"title\": \"<pre>SELECT\\n  <b>\\\"jaffle_shop.main.stg_payments\\\".amount AS amount</b>\\nFROM (\\n  /* */\\n  WITH source AS (\\n    SELECT\\n      raw_payments.id AS id,\\n      raw_payments.order_id AS order_id,\\n      raw_payments.payment_method AS payment_method,\\n      raw_payments.amount AS amount\\n    FROM jaffle_shop.main.raw_payments AS raw_payments\\n  ), renamed AS (\\n    SELECT\\n      source.id AS payment_id,\\n      source.order_id AS order_id,\\n      source.payment_method AS payment_method,\\n      source.amount /* `amount` is currently stored in cents, so we convert it to dollars */ / 100 AS amount\\n    FROM source\\n  ), foo AS (\\n    SELECT\\n      renamed.payment_id AS payment_id,\\n      renamed.order_id AS order_id,\\n      renamed.payment_method AS payment_method,\\n      renamed.amount AS amount,\\n      renamed.payment_id AS foobar_id\\n    FROM renamed\\n  )\\n  SELECT\\n    renamed.payment_id AS payment_id,\\n    renamed.order_id AS order_id,\\n    renamed.payment_method AS payment_method,\\n    renamed.amount AS amount\\n  FROM renamed\\n) AS \\\"jaffle_shop.main.stg_payments\\\" /* source: jaffle_shop.main.stg_payments */</pre>\", \"group\": 0}, {\"id\": 4406096368, \"label\": \"renamed.amount AS amount\", \"title\": \"<pre>/* */\\nWITH source AS (\\n  SELECT\\n    raw_payments.id AS id,\\n    raw_payments.order_id AS order_id,\\n    raw_payments.payment_method AS payment_method,\\n    raw_payments.amount AS amount\\n  FROM jaffle_shop.main.raw_payments AS raw_payments\\n), renamed AS (\\n  SELECT\\n    source.id AS payment_id,\\n    source.order_id AS order_id,\\n    source.payment_method AS payment_method,\\n    source.amount /* `amount` is currently stored in cents, so we convert it to dollars */ / 100 AS amount\\n  FROM source\\n), foo AS (\\n  SELECT\\n    renamed.payment_id AS payment_id,\\n    renamed.order_id AS order_id,\\n    renamed.payment_method AS payment_method,\\n    renamed.amount AS amount,\\n    renamed.payment_id AS foobar_id\\n  FROM renamed\\n)\\nSELECT\\n  <b>renamed.amount AS amount</b>\\nFROM renamed</pre>\", \"group\": 0}, {\"id\": 4406091616, \"label\": \"source.amount /* `amount` is currently stored in cents, so we convert it to dollars */ / 100 AS amount\", \"title\": \"<pre>SELECT\\n  <b>source.amount /* `amount` is currently stored in cents, so we convert it to dollars */ / 100 AS amount</b>\\nFROM source</pre>\", \"group\": 0}, {\"id\": 4406096224, \"label\": \"raw_payments.amount AS amount\", \"title\": \"<pre>SELECT\\n  <b>raw_payments.amount AS amount</b>\\nFROM jaffle_shop.main.raw_payments AS raw_payments</pre>\", \"group\": 0}, {\"id\": 4406087776, \"label\": \"FROM raw_payments\", \"title\": \"<pre>SELECT raw_payments.amount FROM raw_payments</pre>\", \"group\": 1}])\n",
       "    nodes.forEach(row => row[\"title\"] = new DOMParser().parseFromString(row[\"title\"], \"text/html\").body.childNodes[0])\n",
       "\n",
       "    new vis.Network(\n",
       "        document.getElementById(\"sqlglot-lineage\"),\n",
       "        {\n",
       "            nodes: nodes,\n",
       "            edges: new vis.DataSet([{\"from\": 4405737936, \"to\": 4405731504}, {\"from\": 4405731504, \"to\": 4405730832}, {\"from\": 4405730832, \"to\": 4406097040}, {\"from\": 4406097040, \"to\": 4406096368}, {\"from\": 4406096368, \"to\": 4406091616}, {\"from\": 4406091616, \"to\": 4406096224}, {\"from\": 4406096224, \"to\": 4406087776}])\n",
       "        },\n",
       "        {\"height\": \"500px\", \"width\": \"100%\", \"layout\": {\"hierarchical\": {\"enabled\": true, \"nodeSpacing\": 200, \"sortMethod\": \"directed\"}}, \"interaction\": {\"dragNodes\": false, \"selectable\": false}, \"physics\": {\"enabled\": false}, \"edges\": {\"arrows\": \"to\"}, \"nodes\": {\"font\": \"20px monaco\", \"shape\": \"box\", \"widthConstraint\": {\"maximum\": 300}}},\n",
       "    )\n",
       "  </script>\n",
       "</div>"
      ],
      "text/plain": [
       "<sqlglot.lineage.LineageHTML at 0x1069a25c0>"
      ]
     },
     "execution_count": 24,
     "metadata": {},
     "output_type": "execute_result"
    }
   ],
   "source": [
    "node = lineage(\"amount\", orders, sources=sources, schema=raw_schemas, dialect=\"duckdb\")\n",
    "node.to_html()"
   ]
  },
  {
   "cell_type": "code",
   "execution_count": 25,
   "id": "d63b9f67-d565-44e5-89f6-651c2f200390",
   "metadata": {},
   "outputs": [
    {
     "data": {
      "text/plain": [
       "{'raw_orders.id',\n",
       " 'raw_orders.order_date',\n",
       " 'raw_orders.status',\n",
       " 'raw_orders.user_id',\n",
       " 'raw_payments.amount',\n",
       " 'raw_payments.payment_method'}"
      ]
     },
     "execution_count": 25,
     "metadata": {},
     "output_type": "execute_result"
    }
   ],
   "source": [
    "all_leaves = set()\n",
    "for col in orders_columns: \n",
    "    node = lineage(col, orders, sources=sources, schema=raw_schemas, dialect=\"duckdb\")\n",
    "    leaves = get_leaf_nodes(node)\n",
    "    for leaf in leaves:\n",
    "        all_leaves.add(leaf.name)\n",
    "\n",
    "all_leaves"
   ]
  }
 ],
 "metadata": {
  "kernelspec": {
   "display_name": "Python 3 (ipykernel)",
   "language": "python",
   "name": "python3"
  },
  "language_info": {
   "codemirror_mode": {
    "name": "ipython",
    "version": 3
   },
   "file_extension": ".py",
   "mimetype": "text/x-python",
   "name": "python",
   "nbconvert_exporter": "python",
   "pygments_lexer": "ipython3",
   "version": "3.10.11"
  }
 },
 "nbformat": 4,
 "nbformat_minor": 5
}
